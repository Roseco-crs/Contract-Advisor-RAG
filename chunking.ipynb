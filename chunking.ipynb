{
 "cells": [
  {
   "cell_type": "markdown",
   "metadata": {},
   "source": [
    "# Parent Document Retriever\n",
    "When splitting documents for retrieval, there are often conflicting desires:\n",
    "\n",
    "1. You may want to have small documents, so that their embeddings can most accurately reflect their meaning. If too long, then the embeddings can lose meaning.\n",
    "2. You want to have long enough documents that the context of each chunk is retained.\n",
    "\n",
    "The `ParentDocumentRetriever` strikes that balance by splitting and storing small chunks of data. During retrieval, it first fetches the small chunks but then looks up the parent ids for those chunks and returns those larger documents.\n",
    "\n",
    "Note that “parent document” refers to the document that a small chunk originated from. This can either be the whole raw document OR a larger chunk."
   ]
  },
  {
   "cell_type": "code",
   "execution_count": 1,
   "metadata": {},
   "outputs": [],
   "source": [
    "from langchain.retrievers import ParentDocumentRetriever\n",
    "from langchain.storage import InMemoryStore\n",
    "from langchain.text_splitter import RecursiveCharacterTextSplitter\n",
    "from langchain_community.document_loaders import TextLoader\n",
    "from langchain_community.vectorstores import Chroma\n",
    "from langchain_openai import OpenAIEmbeddings\n",
    "from langchain_community.embeddings import SentenceTransformerEmbeddings\n"
   ]
  },
  {
   "cell_type": "code",
   "execution_count": 2,
   "metadata": {},
   "outputs": [
    {
     "data": {
      "text/plain": [
       "True"
      ]
     },
     "execution_count": 2,
     "metadata": {},
     "output_type": "execute_result"
    }
   ],
   "source": [
    "from IPython.display import display, Markdown\n",
    "from dotenv import load_dotenv, find_dotenv\n",
    "\n",
    "load_dotenv(find_dotenv())"
   ]
  },
  {
   "cell_type": "code",
   "execution_count": 23,
   "metadata": {},
   "outputs": [],
   "source": [
    "from langchain_community.document_loaders import PyPDFLoader\n",
    "\n",
    "loader1 = PyPDFLoader(\"../data/Raptor Contract.docx.pdf\")\n",
    "loader2 = PyPDFLoader(\"../data/Robinson Advisory.docx.pdf\")\n",
    "\n",
    "loaders = [loader1, loader2]\n",
    "docs =[]\n",
    "\n",
    "for loader in loaders:\n",
    "    docs.extend(loader.load())"
   ]
  },
  {
   "cell_type": "code",
   "execution_count": null,
   "metadata": {},
   "outputs": [],
   "source": [
    "from langchain_community.document_loaders import DirectoryLoader\n",
    "\n",
    "loader = DirectoryLoader(\"../data/Raptor Contract.docx.pdf\")\n",
    "docs = loader.load()"
   ]
  },
  {
   "cell_type": "markdown",
   "metadata": {},
   "source": [
    "# Retrieving full documents\n",
    "In this mode, we want to retrieve the full documents. Therefore, we only specify a child splitter."
   ]
  },
  {
   "cell_type": "code",
   "execution_count": 3,
   "metadata": {},
   "outputs": [
    {
     "name": "stderr",
     "output_type": "stream",
     "text": [
      "/home/crs/10Academy/w11/Contract-Advisor-RAG/w11_rag/lib/python3.10/site-packages/tqdm/auto.py:21: TqdmWarning: IProgress not found. Please update jupyter and ipywidgets. See https://ipywidgets.readthedocs.io/en/stable/user_install.html\n",
      "  from .autonotebook import tqdm as notebook_tqdm\n"
     ]
    }
   ],
   "source": [
    "import chromadb\n",
    "from chromadb.utils.embedding_functions import SentenceTransformerEmbeddingFunction\n",
    "\n",
    "embedder = SentenceTransformerEmbeddings()"
   ]
  },
  {
   "cell_type": "code",
   "execution_count": 25,
   "metadata": {},
   "outputs": [],
   "source": [
    "# This text splitter is used to create the child documents\n",
    "child_splitter = RecursiveCharacterTextSplitter(chunk_size=400)\n",
    "# The vectorstore to use to index the child chunks\n",
    "vectorstore = Chroma(\n",
    "    collection_name=\"full_documents\", embedding_function=SentenceTransformerEmbeddings()\n",
    ")\n",
    "# The storage layer for the parent documents\n",
    "store = InMemoryStore()\n",
    "retriever = ParentDocumentRetriever(\n",
    "    vectorstore=vectorstore,\n",
    "    docstore=store,\n",
    "    child_splitter=child_splitter,\n",
    ")"
   ]
  },
  {
   "cell_type": "code",
   "execution_count": 26,
   "metadata": {},
   "outputs": [],
   "source": [
    "retriever.add_documents(docs, ids=None)"
   ]
  },
  {
   "cell_type": "markdown",
   "metadata": {},
   "source": [
    "This should yield two keys, because we added two documents. However, this is not the case because we use PyPDFLoader rather DirectoryLoader."
   ]
  },
  {
   "cell_type": "code",
   "execution_count": 31,
   "metadata": {},
   "outputs": [
    {
     "data": {
      "text/plain": [
       "['6e8fba82-d38c-41f6-a5e8-f692b47ee18b',\n",
       " 'faba2abf-d22b-461e-be34-12928f08c89a',\n",
       " '2cab842e-ae93-40ca-b497-c8f1779ef275',\n",
       " 'd133bfd1-9f0f-4935-8e24-e810971ed9c3',\n",
       " '0f86b0df-fbc4-4653-8a3d-31dae19cc149',\n",
       " 'b3400ef9-ed74-4906-a153-80bc0ee742f0',\n",
       " 'da081d35-7dc1-4b18-94ce-7a49643eda48',\n",
       " 'f7fce3c1-9ce6-4e92-847f-c354e335c410',\n",
       " 'df44fd81-1e3f-4661-a4a8-febfdbf09568',\n",
       " 'ddfa4e18-3a03-4d20-9ce5-2ec0ea3d7c88',\n",
       " 'c86cb567-a71f-4a12-a3c2-0353357995b3',\n",
       " '02a7e119-c9bb-4794-8371-4a0eaeb778a5',\n",
       " 'b301373e-240d-4651-81d4-0261850c1068',\n",
       " 'f4fc54fb-43ec-46a0-9778-f333b71635f0',\n",
       " 'acad0c8d-1a44-4504-a274-7ed990b229b6',\n",
       " '37dbef44-92fc-484b-95c9-a01d45122137',\n",
       " 'fde058e6-2318-49fa-bc4f-01a276d22c30',\n",
       " 'f1766d16-3dac-40de-8b6a-8362cd21a726',\n",
       " '220790fa-54ee-4d19-9d72-9973a22d646b',\n",
       " '07d2fe20-7a74-41ac-8627-715cecc9a699',\n",
       " 'f32ab620-47c7-418b-94dd-261e787b2404',\n",
       " '7fbbcadd-513e-4204-a5c5-53d0ec34d957',\n",
       " '3b0d5565-d7d5-4a5c-8960-a83978a8783b',\n",
       " '2b9a4f1b-731c-4516-afbb-d813f4fb3292',\n",
       " '90195431-85b2-4735-95f3-b834520be353',\n",
       " '4d9f8c64-7b13-40b3-9444-4a19babcae03',\n",
       " 'f942920f-cead-454f-9497-3c42cceaf8db',\n",
       " '897143b5-27d5-4947-90ed-75122e331d1e',\n",
       " '1012b5a1-3370-4697-86c9-66c5dfadc340',\n",
       " 'ab854768-6a22-4469-a2f3-296efdf2b217',\n",
       " 'efa98258-1fb5-44e1-883b-54954d750695',\n",
       " '32cae0a0-fb90-46b7-ad06-7c1e84bb03cd',\n",
       " '7cef4c8b-3af7-4660-9d22-349c16e2ec80',\n",
       " '4e37cc90-f988-4535-adc6-fcb77ed36fde',\n",
       " '6649d234-eed1-4c18-a74f-24768cb54262',\n",
       " '87352174-98d6-443d-a973-491bd2a50383',\n",
       " 'eb05cd3d-3274-465d-a496-7059f261a245',\n",
       " '0d5bccc8-6a61-4bd1-b1d8-850997807f4d',\n",
       " 'e7723478-4c89-43f0-a7b8-8b9e05640726',\n",
       " '3b8d1c10-9e0a-462f-9e2b-42e435a76031',\n",
       " 'd9e89678-0641-4226-935d-fa86967c7f1d',\n",
       " '7542e8d4-3d5e-468b-8eb0-16af4a5c1155',\n",
       " '24348b52-eaf2-4326-9376-e32ee2d92a4b',\n",
       " '9eb4ac70-66db-45cb-b024-06952da98067',\n",
       " 'c719b4c0-83c8-44a2-b4b6-2aa859b7bc13',\n",
       " 'f251f56b-5ce6-4157-9125-0f07daffe964',\n",
       " '7a46c588-53a3-4b72-82b5-197d1c587ecb',\n",
       " '1bead005-e23a-4224-b277-3d6215e0444b',\n",
       " '0ee6bac7-8e8c-48fa-b1b2-0e83cf503923',\n",
       " '3201ac5a-34b8-4501-8982-49945d268be0',\n",
       " '4bb041d7-4537-4268-ae56-edc7be1b5dad',\n",
       " 'cf5c8991-966a-4257-82bc-75abc5e4b368',\n",
       " '37b39a50-848b-4993-bf96-b239032c6151',\n",
       " '167facd1-2c80-4605-ba56-7bb7a263601e',\n",
       " 'ed66a04b-ff03-4829-b7d2-07de283148d0',\n",
       " '5ffb73bd-1dd6-4046-bf3f-bf5807de677d',\n",
       " '958d8026-f9bb-498f-b089-0e5303ea61a2',\n",
       " 'fbb3c560-812d-4e20-b62e-3b915b147880',\n",
       " '25693640-57eb-4ffb-bbe8-6727ea3a00a9',\n",
       " 'e7f9aca5-1460-417a-93ae-d3083e0a86ca',\n",
       " 'ac20a135-c99f-430e-b0b1-d1871e5820b3',\n",
       " '3daa7874-ad65-461f-9793-2ed0eb96bb73',\n",
       " '3532edec-8b3c-4d87-92d0-2ec85faafac6',\n",
       " '30cc1101-e1c5-44ef-9e06-b809f642d822',\n",
       " '8ae3f26c-20a0-4fcc-a85b-8187b2b046e0',\n",
       " 'da61c03d-4e88-47a2-a678-f2d5a477a7b2',\n",
       " '33eeb149-0c02-47ed-a8de-45891d89c2a6',\n",
       " '91e5dcb0-fe89-42a6-89d7-0608a530ec98',\n",
       " '948f7840-d557-4a68-b49f-2fcec08a2cc8',\n",
       " '0276bfd2-a3a5-4d68-93ec-96bfd392a2b8',\n",
       " 'df55b525-c978-4864-acbc-364a42d17d24',\n",
       " '108ad834-7c09-4bcd-87f8-0a188ab5a788',\n",
       " 'a45ef6f4-f3c6-4e33-8d51-957711101b71',\n",
       " '4be5d52a-92e6-4aef-845e-6f96ebe5ee8e',\n",
       " 'f0a7bb33-bab6-455b-ba91-9de83b04bb02',\n",
       " 'c37c0a6c-3502-41d9-8c90-5cfb8aed7d99',\n",
       " '65e48460-513b-430f-93f6-58b65c5816e2']"
      ]
     },
     "execution_count": 31,
     "metadata": {},
     "output_type": "execute_result"
    }
   ],
   "source": [
    "list(store.yield_keys())"
   ]
  },
  {
   "cell_type": "code",
   "execution_count": 32,
   "metadata": {},
   "outputs": [],
   "source": [
    "sub_docs = vectorstore.similarity_search(\"how much is the escrow amount\")"
   ]
  },
  {
   "cell_type": "code",
   "execution_count": 34,
   "metadata": {},
   "outputs": [
    {
     "data": {
      "text/plain": [
       "[Document(page_content='Escrow \\nAmount;\\n(iv)\\nrepay ,\\nor\\ncause\\nto\\nbe\\nrepaid,\\nin\\naccordance\\nwith\\nthe\\npayof f\\nletters\\ndelivered\\nby\\nthe \\nSellers’\\nRepresentative\\npursuant\\nto\\nSection\\n2.05(b)(iv)\\nand\\nthe\\nAllocation\\nStatement,\\non\\nbehalf \\nof\\nthe\\nCompany ,\\nthe\\namounts\\nas\\nset\\nforth\\nin\\nsuch\\npayof f\\nletters;\\n(v)\\npay,\\nor\\ncause\\nto\\nbe\\npaid\\nin\\naccordance\\nwith\\nthe\\nAllocation\\nStatement,\\non\\nbehalf\\nof \\nthe\\nCompany ,\\nthe\\nSeller\\nTransaction', metadata={'doc_id': 'b1fa2a89-8245-40fa-8840-38bb732f39c8', 'page': 21, 'source': '../data/Raptor Contract.docx.pdf'}),\n",
       " Document(page_content='Escrow \\nAmount;\\n(iv)\\nrepay ,\\nor\\ncause\\nto\\nbe\\nrepaid,\\nin\\naccordance\\nwith\\nthe\\npayof f\\nletters\\ndelivered\\nby\\nthe \\nSellers’\\nRepresentative\\npursuant\\nto\\nSection\\n2.05(b)(iv)\\nand\\nthe\\nAllocation\\nStatement,\\non\\nbehalf \\nof\\nthe\\nCompany ,\\nthe\\namounts\\nas\\nset\\nforth\\nin\\nsuch\\npayof f\\nletters;\\n(v)\\npay,\\nor\\ncause\\nto\\nbe\\npaid\\nin\\naccordance\\nwith\\nthe\\nAllocation\\nStatement,\\non\\nbehalf\\nof \\nthe\\nCompany ,\\nthe\\nSeller\\nTransaction', metadata={'doc_id': '7fbbcadd-513e-4204-a5c5-53d0ec34d957', 'page': 21, 'source': '../data/Raptor Contract.docx.pdf'}),\n",
       " Document(page_content='Escrow\\nAgreement.\\nThe\\nEscrow\\nAmount\\nshall\\nbe\\nheld\\nand, \\nsubject\\nto\\nSection\\n2.07,\\nreleased\\nto\\nthe\\nCompany\\nSecurityholders\\nin\\naccordance\\nwith\\nthe \\nprovisions\\nof\\nthe\\nEscrow\\nAgreement\\nwith\\nthe\\nCompany\\nSecurityholders\\nbeing\\nentitled\\nto\\nshare\\nin \\nsuch\\nreleased\\namounts\\nin\\naccordance\\nwith\\ntheir\\nPro\\nRata\\nPercentages.\\nFrom\\nand\\nafter\\nthe \\nClosing,\\nBuyer\\nand\\nthe\\nSellers’\\nRepresentative\\nwill\\ndirect\\nthe\\nEscrow', metadata={'doc_id': '816cea8d-4cb5-410a-917e-b1a7429fc09e', 'page': 25, 'source': '../data/Raptor Contract.docx.pdf'}),\n",
       " Document(page_content='Escrow\\nAgreement.\\nThe\\nEscrow\\nAmount\\nshall\\nbe\\nheld\\nand, \\nsubject\\nto\\nSection\\n2.07,\\nreleased\\nto\\nthe\\nCompany\\nSecurityholders\\nin\\naccordance\\nwith\\nthe \\nprovisions\\nof\\nthe\\nEscrow\\nAgreement\\nwith\\nthe\\nCompany\\nSecurityholders\\nbeing\\nentitled\\nto\\nshare\\nin \\nsuch\\nreleased\\namounts\\nin\\naccordance\\nwith\\ntheir\\nPro\\nRata\\nPercentages.\\nFrom\\nand\\nafter\\nthe \\nClosing,\\nBuyer\\nand\\nthe\\nSellers’\\nRepresentative\\nwill\\ndirect\\nthe\\nEscrow', metadata={'doc_id': '4d9f8c64-7b13-40b3-9444-4a19babcae03', 'page': 25, 'source': '../data/Raptor Contract.docx.pdf'})]"
      ]
     },
     "execution_count": 34,
     "metadata": {},
     "output_type": "execute_result"
    }
   ],
   "source": [
    "sub_docs"
   ]
  },
  {
   "cell_type": "code",
   "execution_count": 36,
   "metadata": {},
   "outputs": [
    {
     "data": {
      "text/plain": [
       "'Escrow \\nAmount;\\n(iv)\\nrepay ,\\nor\\ncause\\nto\\nbe\\nrepaid,\\nin\\naccordance\\nwith\\nthe\\npayof f\\nletters\\ndelivered\\nby\\nthe \\nSellers’\\nRepresentative\\npursuant\\nto\\nSection\\n2.05(b)(iv)\\nand\\nthe\\nAllocation\\nStatement,\\non\\nbehalf \\nof\\nthe\\nCompany ,\\nthe\\namounts\\nas\\nset\\nforth\\nin\\nsuch\\npayof f\\nletters;\\n(v)\\npay,\\nor\\ncause\\nto\\nbe\\npaid\\nin\\naccordance\\nwith\\nthe\\nAllocation\\nStatement,\\non\\nbehalf\\nof \\nthe\\nCompany ,\\nthe\\nSeller\\nTransaction'"
      ]
     },
     "metadata": {},
     "output_type": "display_data"
    }
   ],
   "source": [
    "display(sub_docs[0].page_content)"
   ]
  },
  {
   "cell_type": "markdown",
   "metadata": {},
   "source": [
    "Let’s now retrieve from the overall retriever. This should return large documents - since it returns the documents where the smaller chunks are located."
   ]
  },
  {
   "cell_type": "code",
   "execution_count": 37,
   "metadata": {},
   "outputs": [],
   "source": [
    "retrieved_docs = retriever.get_relevant_documents(\"how much is the escrow amount?\")"
   ]
  },
  {
   "cell_type": "code",
   "execution_count": 38,
   "metadata": {},
   "outputs": [
    {
     "data": {
      "text/plain": [
       "3046"
      ]
     },
     "execution_count": 38,
     "metadata": {},
     "output_type": "execute_result"
    }
   ],
   "source": [
    "len(retrieved_docs[0].page_content)"
   ]
  },
  {
   "cell_type": "markdown",
   "metadata": {},
   "source": []
  },
  {
   "cell_type": "code",
   "execution_count": 44,
   "metadata": {},
   "outputs": [],
   "source": [
    "# This text splitter is used to create the parent documents\n",
    "parent_splitter = RecursiveCharacterTextSplitter(chunk_size=2000)\n",
    "# This text splitter is used to create the child documents\n",
    "# It should create documents smaller than the parent\n",
    "child_splitter = RecursiveCharacterTextSplitter(chunk_size=400)\n",
    "# The vectorstore to use to index the child chunks\n",
    "vectorstore = Chroma(\n",
    "    collection_name=\"split_parents\", embedding_function=OpenAIEmbeddings()\n",
    ")\n",
    "# The storage layer for the parent documents\n",
    "store = InMemoryStore()"
   ]
  },
  {
   "cell_type": "code",
   "execution_count": 42,
   "metadata": {},
   "outputs": [],
   "source": [
    "retriever = ParentDocumentRetriever(\n",
    "    vectorstore=vectorstore,\n",
    "    docstore=store,\n",
    "    child_splitter=child_splitter,\n",
    "    parent_splitter=parent_splitter,\n",
    ")"
   ]
  },
  {
   "cell_type": "code",
   "execution_count": null,
   "metadata": {},
   "outputs": [],
   "source": [
    "retriever.add_documents(docs)"
   ]
  },
  {
   "cell_type": "code",
   "execution_count": null,
   "metadata": {},
   "outputs": [],
   "source": []
  }
 ],
 "metadata": {
  "kernelspec": {
   "display_name": "w11_rag",
   "language": "python",
   "name": "python3"
  },
  "language_info": {
   "codemirror_mode": {
    "name": "ipython",
    "version": 3
   },
   "file_extension": ".py",
   "mimetype": "text/x-python",
   "name": "python",
   "nbconvert_exporter": "python",
   "pygments_lexer": "ipython3",
   "version": "3.10.13"
  }
 },
 "nbformat": 4,
 "nbformat_minor": 2
}
