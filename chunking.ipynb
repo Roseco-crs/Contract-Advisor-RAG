{
 "cells": [
  {
   "cell_type": "markdown",
   "metadata": {},
   "source": [
    "# Parent Document Retriever\n",
    "When splitting documents for retrieval, there are often conflicting desires:\n",
    "\n",
    "1. You may want to have small documents, so that their embeddings can most accurately reflect their meaning. If too long, then the embeddings can lose meaning.\n",
    "2. You want to have long enough documents that the context of each chunk is retained.\n",
    "\n",
    "The `ParentDocumentRetriever` strikes that balance by splitting and storing small chunks of data. During retrieval, it first fetches the small chunks but then looks up the parent ids for those chunks and returns those larger documents.\n",
    "\n",
    "Note that “parent document” refers to the document that a small chunk originated from. This can either be the whole raw document OR a larger chunk."
   ]
  },
  {
   "cell_type": "code",
   "execution_count": 1,
   "metadata": {},
   "outputs": [],
   "source": [
    "from langchain.retrievers import ParentDocumentRetriever\n",
    "from langchain.storage import InMemoryStore\n",
    "from langchain.text_splitter import RecursiveCharacterTextSplitter\n",
    "from langchain_community.document_loaders import TextLoader\n",
    "from langchain_community.vectorstores import Chroma\n",
    "from langchain_openai import OpenAIEmbeddings\n",
    "from langchain_community.embeddings import SentenceTransformerEmbeddings\n"
   ]
  },
  {
   "cell_type": "code",
   "execution_count": 2,
   "metadata": {},
   "outputs": [
    {
     "data": {
      "text/plain": [
       "True"
      ]
     },
     "execution_count": 2,
     "metadata": {},
     "output_type": "execute_result"
    }
   ],
   "source": [
    "from IPython.display import display, Markdown\n",
    "from dotenv import load_dotenv, find_dotenv\n",
    "\n",
    "load_dotenv(find_dotenv())"
   ]
  },
  {
   "cell_type": "code",
   "execution_count": 3,
   "metadata": {},
   "outputs": [],
   "source": [
    "from langchain_community.document_loaders import PyPDFLoader\n",
    "\n",
    "loader1 = PyPDFLoader(\"./data/Raptor Contract.docx.pdf\")\n",
    "loader2 = PyPDFLoader(\"./data/Robinson Advisory.docx.pdf\")\n",
    "\n",
    "loaders = [loader1, loader2]\n",
    "docs =[]\n",
    "\n",
    "for loader in loaders:\n",
    "    docs.extend(loader.load())"
   ]
  },
  {
   "cell_type": "code",
   "execution_count": 4,
   "metadata": {},
   "outputs": [],
   "source": [
    "# from langchain_community.document_loaders import DirectoryLoader\n",
    "\n",
    "# loader = DirectoryLoader(\"./data/Raptor Contract.docx.pdf\")\n",
    "# docs = loader.load()"
   ]
  },
  {
   "cell_type": "code",
   "execution_count": 5,
   "metadata": {},
   "outputs": [
    {
     "data": {
      "text/plain": [
       "[Document(page_content='ADVISOR Y\\nSER VICES\\nAGREEMENT\\nThis\\nAdvisory\\nServices\\nAgreement\\nis\\nentered\\ninto\\nas\\nof\\nJune\\n15\\nth\\n,\\n2023\\n(the\\n“\\nEffective\\nDate\\n”),\\nby\\nand \\nbetween\\nCloud\\nInvestments\\nLtd.,\\nID\\n51-426526-3,\\nan\\nIsraeli\\ncompany\\n(the\\n\"\\nCompany\\n\"),\\nand\\nMr.\\nJack \\nRobinson,\\nPassport\\nNumber\\n780055578,\\nresiding\\nat\\n1\\nRabin\\nst,\\nTel\\nAviv,\\nIsrael,\\nEmail: \\njackrobinson@gmail.com\\n(\"\\nAdvisor\\n\").\\nWhereas,\\nAdvisor\\nhas\\nexpertise\\nand/or\\nknowledge\\nand/or\\nrelationships,\\nwhich\\nare\\nrelevant\\nto\\nthe \\nCompany’ s\\nbusiness\\nand\\nthe\\nCompany\\nhas\\nasked\\nAdvisor\\nto\\nprovide\\nit\\nwith\\ncertain\\nAdvisory \\nservices,\\nas\\ndescribed\\nin\\nthis\\nAgreement;\\nand\\nWhereas,\\nAdvisor\\nhas\\nagreed\\nto\\nprovide\\nthe\\nCompany\\nwith\\nsuch\\nservices,\\nsubject\\nto\\nthe\\nterms\\nset\\nforth \\nin\\nthis\\nAgreement.\\nNOW\\nTHEREFORE\\nTHE\\nPARTIES\\nAGREE\\nAS\\nFOLLOWS:\\n1.\\nServices:\\n1.1\\nAdvisor\\nshall\\nprovide\\nto\\nthe\\nCompany ,\\nas\\nan\\nindependent\\ncontractor ,\\nsoftware\\ndevelopment \\nservices,\\nand\\n/\\nor\\nany\\nother\\nservices\\nas\\nagreed\\nby\\nthe\\nparties\\nfrom\\ntime\\nto\\ntime\\n(the\\n“\\nServices\\n”). \\nAdvisor\\nshall\\nnot\\nappoint\\nany\\nsub-agents\\nor\\ndelegates\\nin\\nconnection\\nwith\\nperformance\\nof\\nthe \\nServices,\\nnor\\nassign\\nany\\nof\\nhis\\nobligations\\nor\\nrights\\nhereunder\\nwithout\\nobtaining\\nthe\\nprior\\nwritten \\nconsent\\nof\\nthe\\nCompany .\\nWithout\\nderogating\\nfrom\\nthe\\nforegoing,\\nthe\\nAdvisor\\nshall\\nnot\\nbe\\nrequired\\nto\\nprovide\\nthe\\nServices \\nfor\\na\\nperiod\\nof\\neighteen\\n(18)\\ndays\\nin\\neach\\n12-month\\nperiod.\\n1.2\\nIn\\nperforming\\nthe\\nServices,\\nAdvisor\\nshall\\ndevote\\nhis\\ntime,\\nknow-how ,\\nexpertise,\\ntalent, \\nexperience\\nand\\nbest\\nefforts\\nand\\nattention\\nto\\nthe\\nprovision\\nof\\nthe\\nServices,\\nas\\nshall\\nbe\\nreasonably \\nrequired\\nby\\nthe\\nCompany .\\nAdvisor\\nshall\\nrender\\nthe\\nServices\\nin\\na\\ndiligent\\nmanner\\nand\\nat\\na\\nhigh \\nprofessional\\nstandard\\nfor\\nthe\\nbenefit\\nof\\nthe\\nCompany\\nand\\nshall\\nperform\\nand\\ndischar ge\\nwell\\nand \\nfaithfully ,\\nwith\\ndevotion,\\nhonesty\\nand\\nfidelity ,\\nhis\\nobligations\\nhereunder .\\n1.3\\nAdvisor\\nfurther\\nagrees\\nand\\nundertakes\\nto\\n(i)\\ncomply\\nwith\\nall\\nthe\\nCompany\\'s\\npolicies,\\nprocedures \\nand\\nobjectives,\\nas\\nin\\neffect\\nfrom\\ntime\\nto\\ntime;\\n(ii)\\nadhere\\nto\\nany\\napplicable\\nlaw\\nor\\nprovision, \\npertaining\\nto\\nhis\\nservices;\\n(iii)\\nnot\\ntake\\nany\\naction\\nwith\\nthe\\nintention\\nthat\\nthe\\nsame\\nwill\\ncause \\nmaterial\\ndamage\\nto\\nthe\\ngood\\nname\\nof\\nthe\\nCompany;\\n(iv)\\nkeep\\nthe\\ncontents\\nof\\nthis\\nAgreement \\nconfidential\\nand\\nnot\\nto\\ndisclose\\nthe\\nexistence\\nor\\ncontents\\nof\\nthis\\nAgreement\\nto\\nany\\nthird\\nparty \\nwithout\\nthe\\nprior\\nwritten\\nconsent\\nof\\nthe\\nCompany .\\n2.\\nTime\\nTracking:\\nAdvisor\\nshall\\nprovide\\nthe\\nCompany\\nwith\\na\\nwritten\\nreport,\\nin\\na\\nformat\\nacceptable\\nby \\nthe\\nCompany ,\\nsetting\\nforth\\nthe\\nnumber\\nof\\nhours\\nin\\nwhich\\nhe\\nprovided\\nthe\\nServices,\\non\\na\\ndaily\\nbasis,\\nas \\nwell\\nas\\nan\\naggregated\\nmonthly\\nreport\\nat\\nthe\\nlast\\nday\\nof\\neach\\ncalendar\\nmonth.\\n3.\\nNo\\nConflicts:\\nAdvisor\\nrepresents\\nthat\\nthere\\nis\\nno\\ncontractual\\nor\\nother\\nlegal\\nrestriction\\npreventing\\nor \\nlimiting\\nhim/her\\nfrom\\nentering\\ninto\\nthis\\nAgreement\\nor\\nperforming\\nany\\nof\\nhis/her\\nobligations \\nhereunder .\\nAdvisor\\nshall\\nimmediately\\nand\\nwithout\\ndelay\\ninform\\nthe\\nCompany\\nof\\nany\\naffairs\\nand/or \\nmatters\\nthat\\nmight\\nconstitute\\na\\nconflict\\nof\\ninterest\\nwith\\nhis/her\\nservices\\nto\\nCompany\\nand/or\\nthe \\ninterests\\nof\\nthe\\nCompany .\\nAdvisor\\nagrees\\nto\\nindemnify ,\\ndefend\\nand\\nhold\\nharmless\\nthe\\nCompany\\nand \\nits\\ndirectors,\\nofficers\\nand\\nemployees\\nagainst\\nall\\nclaims,\\nliabilities,\\nand\\ncosts,\\nincluding\\nreasonable \\nattorneys\\'\\nfees\\nin\\nconnection\\nwith\\nany\\nbreach\\nby\\nAdvisor ,\\nof\\nany\\nobligations\\npursuant\\nto\\na\\nprior\\nor \\nexisting\\nengagement\\nwith\\nany\\nother\\nthird\\nparty ,\\nincluding\\nwithout\\nlimitation\\nother\\nemployers\\nor \\nclients.', metadata={'source': './data/Robinson Advisory.docx.pdf', 'page': 0}),\n",
       " Document(page_content='-\\n2\\n-\\n4.\\nTerm\\n:\\nThe\\nterm\\nof\\nthis\\nAgreement\\nshall\\ncommence\\non\\nthe\\nEffective\\nDate\\nand\\nshall\\ncontinue\\nuntil \\nterminated\\nin\\naccordance\\nwith\\nthe\\nprovisions\\nherein\\n(the\\n\"\\nTerm\\n\").\\n5.\\nTermination\\n:\\nEither\\nparty ,\\nat\\nany\\ngiven\\ntime,\\nmay\\nterminate\\nthis\\nAgreement,\\nfor\\nany\\nreason \\nwhatsoever ,\\nwith\\nor\\nwithout\\ncause,\\nupon\\nfourteen\\n(14)\\ndays’\\nprior\\nwritten\\nnotice.\\nNotwithstanding\\nthe \\nabove,\\nthe\\nCompany\\nmay\\nterminate\\nthis\\nAgreement\\nimmediately\\nand\\nwithout\\nprior\\nnotice\\nif\\nAdvisor \\nrefuses\\nor\\nis\\nunable\\nto\\nperform\\nthe\\nServices,\\nor\\nis\\nin\\nbreach\\nof\\nany\\nprovision\\nof\\nthis\\nAgreement.\\n6.\\nCompensation:\\n6.1\\nAs\\nfull\\nand\\nsole\\nconsideration\\nfor\\nthe\\nServices,\\nand\\nsubject\\nto\\nthe\\nperformance\\nof\\nthe\\nServices, \\nthe\\nCompany\\nshall\\npay\\nthe\\nAdvisor ,\\nagainst\\nan\\ninvoice\\nprovided\\nto\\nthe\\nCompany\\nby\\nAdvisor , \\nhourly\\nfees\\nat\\na\\nrate\\nof\\nUSD\\n9\\n(nine)\\nper\\nBillable\\nHour\\nas\\ndefined\\nbelow ,\\nlimited\\nto\\na\\nmaximum \\nof\\nUSD\\n1,500\\nper\\nmonth\\n(the\\n\"\\nFees\\n\").\\nIn\\naddition,\\nthe\\nCompany\\nshall\\npay\\nthe\\nadvisor\\nUSD\\n100 \\nper\\nmonth\\nto\\nfinance\\na\\nworkspace\\nfor\\nthe\\nAdvisor ,\\nas\\nlong\\nas\\nthe\\nAdvisor\\nactually\\nhires\\na \\nprofessional\\nworkspace\\n(the\\n“\\nWorkspace\\nExpense\\n”).\\nAdvisor\\nwill\\nnot\\nbe\\nentitled\\nto\\nany \\nadditional\\nfees\\nor\\nexpense\\nreimbursement\\nwhatsoever ,\\nexcept\\nas\\nexpressly\\nprovided\\nfor\\nin\\nthis \\nAgreement.\\nBillable\\nHour:\\nNet\\ntime\\ndevoted\\nto\\nthe\\nprovisioning\\nof\\nthe\\nServices,\\nwithout\\ncalculating\\nmeals, \\ntravels\\nor\\nany\\nother\\noverhead\\ntime\\nborne\\nby\\nthe\\nAdvisor .\\n6.2\\nThe\\nFees\\nand\\nthe\\nWorkspace\\nExpense\\nfor\\neach\\nmonth\\nshall\\nbe\\npayable\\nby\\nno\\nlater\\nthan\\nten\\n(10) \\ndays\\nfrom\\nthe\\nbeginning\\nof\\nthe\\nfollowing\\nmonth,\\nagainst\\nreceipt\\nby\\nthe\\nCompany\\nof\\na\\nduly\\nissued \\ntax\\ninvoice.\\n6.3\\nIn\\naddition,\\nthe\\nCompany\\nshall\\nreimburse\\nAdvisor\\nfor\\nany\\nreasonable\\nand\\nactual\\nexpenses \\nincurred\\nby\\nthe\\nAdvisor\\nin\\nconnection\\nwith\\nthe\\nperformance\\nof\\nthe\\nServices,\\nall\\nin\\naccordance \\nwith\\nthe\\nCompany’ s\\npolicies\\nas\\ndetermined\\nby\\nthe\\nBoard\\nof\\nDirectors\\nfrom\\ntime\\nto\\ntime,\\nand \\nsubject\\nto\\nCompany\\'s\\nprior\\nwritten\\nconsent\\nfor\\neach\\nspecific\\nexpense,\\nbefore\\nAdvisor\\nincurs\\nsuch \\nexpenses.\\nAs\\na\\ncondition\\nto\\nreimbursement,\\nAdvisor\\nshall\\nprovide\\nthe\\nCompany\\nwith\\ncopies\\nof \\nall\\ninvoices,\\nreceipts\\nand\\nother\\nevidence\\nof\\nexpenditures\\nas\\nrequired\\nby\\nCompany\\npolicy .\\n6.4\\nAdvisor\\nshall\\nbe\\nsolely\\nresponsible\\nfor\\nany\\nincome\\ntaxes\\nor\\nother\\nassessments\\nmade\\nor\\nimposed \\nby\\nany\\ngovernmental\\nauthority\\non\\nAdvisor\\nwith\\nrespect\\nto\\nthe\\nServices\\nrendered\\nand\\nthe \\ncompensation\\nreceived\\nhereunder ,\\nand\\nany\\nand\\nall\\nexpenses\\nand\\ncosts\\nof\\nhimself,\\nemployees, \\nagents\\nand\\nrepresentatives,\\nincluding,\\nwithout\\nlimitation,\\nany\\nsalary ,\\novertime,\\nseverance\\nor \\nsocial\\nbenefits\\npayable\\nthereto,\\nand\\nmarketing\\ncosts\\nincurred\\nin\\nconnection\\nwith\\nthe\\nperformance \\nof\\nobligations\\nhereunder .\\n7.\\nConfidentiality ,\\nNon-Competition\\nand\\nIP\\nOwnership\\nUndertaking\\n:\\nIn\\nconnection\\nwith\\nthe \\nperformance\\nof\\nAdvisor ’s\\nobligations\\nunder\\nthis\\nAgreement,\\nthe\\nAdvisor\\nshall\\nexecute\\na \\nConfidentiality ,\\nNon-Competition\\nand\\nIP\\nOwnership\\nUndertaking\\nin\\nthe\\nform\\nattached\\nhereto\\nas \\nExhibit\\nA\\n.\\n8.\\nRelationship\\nof\\nthe\\nParties;\\nIndemnification\\n:\\nThe\\nsole\\nrelationship\\nbetween\\nthe\\nCompany\\nand\\nthe \\nAdvisor\\nshall\\nbe\\nthat\\nof\\nindependent\\ncontractors.\\nAdvisor\\nshall\\nnot\\nbe\\ndeemed\\nto\\nbe,\\nnor\\ntreated\\nby\\nthe \\nCompany\\nas,\\nan\\nemployee\\nof\\nthe\\nCompany .\\nAdvisor\\nshall\\nnot\\nreceive\\nnor\\nbe\\nentitled\\nto\\novertime\\npay, \\ninsurance,\\npaid\\nvacation,\\nseverance\\npayments\\nor\\nsimilar\\nfringe\\nor\\nemployment\\nbenefits\\nfrom\\nthe \\nCompany .\\nWithout\\nderogating\\nfrom\\nthe\\nabove,\\nif\\nit\\nis\\nadjudicated\\nor\\notherwise\\ndetermined\\nby\\nany \\ngovernmental\\nauthority\\nthat\\nthe\\nAdvisor\\nand/or\\nanyone\\non\\nAdvisor\\'s\\nbehalf,\\nis,\\nregardless\\nof\\nthe\\nterms \\nof\\nthis\\nAgreement,\\nan\\nemployee\\nof\\nthe\\nCompany ,\\nthen\\npayments\\nto\\nAdvisor\\nhereunder\\nshall\\nbe \\nreduced\\neffective\\nretroactively\\nas\\nof\\nthe\\nbeginning\\nof\\nthe\\nTerm\\nso\\nthat\\n60%\\nof\\nsuch\\npayments\\nshall', metadata={'source': './data/Robinson Advisory.docx.pdf', 'page': 1}),\n",
       " Document(page_content='-\\n3\\n-\\nconstitute\\nsalary\\npayments,\\nand\\n40%\\nof\\nsuch\\npayments\\nshall\\nconstitute\\npayment\\nby\\nthe\\nCompany\\nfor \\nall\\nother\\nAdvisor\\nstatutory\\nrights\\nand\\nbenefits\\nas\\nemployee\\nof\\nthe\\nCompany\\nthroughout\\nthe\\nTerm. \\nAdvisor\\nfurther\\nconsents\\nthat\\nthe\\nCompany\\nmay\\noffset\\nany\\namounts\\ndue\\nto\\nhim\\nunder\\nthis\\nSection \\nfrom\\nany\\namounts\\npayable\\nto\\nAdvisor\\nunder\\nthis\\nAgreement.\\nAdvisor\\nshall\\nindemnify\\nthe\\nCompany \\nfor\\nany\\nloss\\nor\\nexpenses\\nincurred\\nby\\nthe\\nCompany\\nif\\nit\\nwere\\ndetermined\\nthat\\nan\\nalleged \\nemployer/employee\\nrelationship\\nexisted\\nbetween\\nthe\\nAdvisor\\nand\\nthe\\nCompany .\\n9.\\nEntir e\\nAgreement;\\nNo\\nWaiver\\nor\\nAssignment\\n:\\nThis\\nAgreement\\ntogether\\nwith\\nthe\\nExhibits,\\nwhich \\nare\\nattached\\nhereto\\nand\\nincorporated\\nherein,\\nset\\nforth\\nthe\\nentire\\nAgreement\\nbetween\\nthe\\nparties\\nand \\nshall\\nsupersede\\nall\\nprevious\\ncommunications\\nand\\nagreements\\nbetween\\nthe\\nparties,\\neither\\noral\\nor \\nwritten.\\nThis\\nAgreement\\nmay\\nbe\\nmodified\\nonly\\nby\\na\\nwritten\\namendment\\nexecuted\\nby\\nboth\\nparties. \\nThis\\nAgreement\\nmay\\nnot\\nbe\\nassigned,\\nsold,\\ndelegated\\nor\\ntransferred\\nin\\nany\\nmanner\\nby\\nAdvisor\\nfor\\nany \\nreason\\nwhatsoever .\\nThe\\nCompany\\nmay\\nassign\\nthe\\nAgreement\\nto\\na\\nsuccessor\\nof\\nall\\nor\\nsubstantially\\nall \\nof\\nits\\nassets\\nor\\nbusiness,\\nprovided\\nthe\\nassignee\\nhas\\nassumed\\nthe\\nCompany’ s\\nobligations\\nunder\\nthis \\nAgreement.\\n10.\\nGoverning\\nLaw\\nand\\nJurisdiction\\n:\\nThis\\nAgreement\\nshall\\nbe\\ngoverned\\nby\\nthe\\nlaws\\nof\\nthe\\nState\\nof \\nIsrael,\\nwithout\\ngiving\\neffect\\nto\\nthe\\nrules\\nrespecting\\nconflicts\\nof\\nlaws.\\nThe\\nparties\\nconsent\\nto\\nthe \\nexclusive\\njurisdiction\\nand\\nvenue\\nof\\nTel\\nAviv\\ncourts\\nfor\\nany\\nlawsuit\\nfiled\\narising\\nfrom\\nor\\nrelating\\nto \\nthis\\nAgreement.\\n11.\\nNotices\\n:\\nNotices\\nunder\\nthis\\nAgreement\\nshall\\nbe\\ndelivered\\nto\\nthe\\nparty’ s\\nemail\\naddress\\nas\\nfollows: \\nCompany:\\ninfo@cloudcorp.com\\n,\\nAdvisor:\\njackrobinson@gmail.com\\n,\\nor\\nin\\nany\\nthe\\nother\\nmeans\\nwith\\na \\nproof\\nof\\nacceptance\\nby\\nthe\\nother\\nparty .\\nIN\\nWITNESS\\nWHEREOF\\nthe\\nparties\\nhave\\nexecuted\\nthis\\nAgreement\\nas\\nof\\nthe\\ndate\\nfirst\\nabove\\nwritten.\\nCloud\\nInvestments\\nLtd.\\nAdvisor\\nBy:\\n________________________\\nBy:________________________\\nName:\\nSilvan\\nJoseph\\nName:\\nJack\\nRobinson\\nTitle:\\nCEO', metadata={'source': './data/Robinson Advisory.docx.pdf', 'page': 2}),\n",
       " Document(page_content='-\\n4\\n-\\nConfidentiality,\\nNone\\nCompete\\nand\\nIP\\nOwnership\\nUndertaking\\nAppendix\\nA\\nto\\nAdvisory\\nService\\nAgreement\\nas\\nof\\nJune\\n15\\nth\\n,\\n2023\\nTHIS\\nCONFIDENTIALITY\\nUNDER TAKING\\n(“\\nUndertaking\\n”)\\nis\\nentered\\ninto\\nas\\nof\\nJune\\n15\\nth\\n,\\n2023\\n(“\\nEffective\\nDate\\n”),\\nby\\nMr.\\nJack \\nRobinson,\\nPassport\\nNumber\\n780055578,\\nresiding\\nat\\n1\\nRabin\\nst,\\nTel\\nAviv,\\nIsrael,\\nEmail:\\njackrobinson@gmail.com,\\n(“\\nAdvisor\\n”),\\ntowards\\nCloud \\nInvestments\\nLtd\\n(“\\nCompany\\n”),\\nas\\nfollows:\\n1.\\nDefinitions:\\n(a)\\nCompany’ s\\nBusiness:\\ndevelopment\\nof\\nan\\nAI-based\\ncontract\\nassistant.\\n(b)\\nServices:\\nSoftware\\ndevelopment\\nservices\\nand/or \\nany\\nother\\nservices\\nprovided\\nby\\nthe\\nAdvisor\\nto\\nthe\\nCompany .\\n(c)\\nWork\\nProduct:\\nAny\\nproduct\\nof\\nthe\\nServices,\\ntangible\\nand/or\\nintangible, \\nincluding\\nany\\ninventions,\\ndiscoveries\\nand/or\\nother\\nintellectual\\nproperty .\\n(d)\\nConfidential\\nInformation:\\nany\\ninformation\\ndisclosed\\nby\\nthe \\nCompany\\nto\\nthe\\nAdvisor\\nand/or\\ncreated\\nas\\na\\nresult\\nof\\nthe\\nServices\\n(including\\nWork\\nProduct),\\nof\\nany\\ntype,\\nform\\n(including\\norally)\\nor\\nmedia, \\nincluding\\n(without\\nlimitation),\\ncode,\\nspecifications,\\narchitecture,\\ndesign,\\ndata,\\nalgorithms,\\nbusiness\\nplans,\\nbudget,\\ncustomers\\n/\\nsuppliers\\nlists \\netc.),\\nbut\\nexcluding\\ninformation\\nwhich\\nprior\\nto\\nthe\\ndisclosure\\nwas\\npublicly\\navailable\\nor\\nknown\\nto\\nthe\\nAdvisor\\n(both\\nwithout\\nbreach\\nof\\nany \\nconfidentiality\\nobligation\\ntowards\\nthe\\nCompany).\\n2.\\nUse:\\nThe\\nAdvisor\\nmay\\nuse\\nthe\\nConfidential\\nInformation\\nonly\\nfor\\nthe\\npurpose\\nof\\nproviding\\nthe\\nServices\\nand\\nshall\\nnot\\nobtain\\nany\\nrights\\nin\\nit. \\nThe\\nAdvisor\\nshall\\nstop\\nusing\\nConfidential\\nInformation\\nand/or\\nreturn\\nit\\nto\\nthe\\nCompany\\nand/or\\ndestroy\\nit\\nimmediately\\nupon\\nCompany’ s \\nrequest.\\nThe\\nAdvisor\\nmay\\ndisclose\\nConfidential\\nInformation\\nin\\ncase\\nthis\\nis\\nrequired\\nby\\nlaw,\\nbut\\nonly\\nto\\nthe\\nextent\\nrequired\\nand\\nafter \\nproviding\\nthe\\nCompany\\na\\nprompt\\nwritten\\nnotice\\nand\\nsubject\\nto\\npromptly\\ncooperate\\nwith\\nthe\\nCompany\\nin\\nseeking\\na\\nprotective\\norder .\\n3.\\nSafeguard:\\nThe\\nAdvisor\\nshall\\nsafeguard\\nthe\\nConfidential\\nInformation,\\nkeep\\nit\\nin\\nstrict\\nconfidence\\nand\\nshall\\nnot\\ndisclose\\nit\\nto\\nany\\nthird\\nparty \\nwithout\\nthe\\nprior\\nwritten\\nconsent\\nof\\nthe\\nCompany .\\n4.\\nIP:\\nAny\\nWork\\nProduct,\\nupon\\ncreation,\\nshall\\nbe\\nfully\\nand\\nexclusively\\nowned\\nby\\nthe\\nCompany .\\nThe\\nAdvisor ,\\nimmediately\\nupon\\nCompany’ s \\nrequest,\\nshall\\nsign\\nany\\ndocument\\nand/or\\nperform\\nany\\naction\\nneeded\\nto\\nformalize\\nsuch\\nownership.\\nThe\\nAdvisor\\nshall\\nnot\\nobtain\\nany\\nrights\\nin \\nthe\\nWork\\nProduct,\\nincluding\\nmoral\\nrights\\nand/or\\nrights\\nfor\\nroyalties\\nor\\nother\\nconsideration\\nunder\\nany\\napplicable\\nlaw\\n(including\\nSection\\n134 \\nof\\nthe\\nIsraeli\\nPatent\\nLaw\\n–\\n1967\\nif\\napplicable),\\nand\\nshall\\nnot\\nbe\\nentitled\\nto\\nany\\ncompensation\\nwith\\nrespect\\nto\\nthe\\nServices,\\nwhich\\nwas\\nnot \\nspecifically\\nagreed,\\nin\\nwriting,\\nbetween\\nthe\\nAdvisor\\nand\\nthe\\nCompany .\\n5.\\nNon-Compete\\n:\\nDuring\\nthe\\nterm\\nof\\nengagement\\nwith\\nthe\\nCompany\\nand\\nfor\\na\\nperiod\\nof\\n12\\nmonths\\nthereafter ,\\nAdvisor\\nshall\\nnot\\nbe\\ninvolved, \\nas\\nan\\nemployee,\\nowner ,\\ncontractor\\nor\\notherwise,\\nin\\nany\\nbusiness,\\nwhich\\ncompetes\\nwith\\nthe\\nCompany’ s\\nBusiness,\\nand\\nshall\\nnot\\nsolicit\\nand/or \\nhire\\nany\\nemployee\\nand/or\\nservice\\nprovider\\nof\\nthe\\nCompany ,\\nwithout\\nthe\\nprior\\nwritten\\nconsent\\nof\\nthe\\nCompany .\\n6.\\nPersonnel:\\nThe\\nAdvisor\\nmay\\nprovide\\nthe\\nServices\\nonly\\ndirectly\\nor\\nthrough\\nemployees,\\ncontractors\\nor\\nagents\\n(“Personnel”),\\nwhich\\nwere \\nspecifically\\napproved\\nby\\nthe\\nCompany ,\\nand\\nhave\\ncommitted\\nin\\nwriting\\nto\\nconfidentiality\\nand\\nownership\\nrights\\ntowards\\nthe\\nAdvisor\\nand/or \\nthe\\nCompany ,\\nin\\na\\nform\\nrestrictive\\nenough\\nto\\nallow\\nAdvisor\\nto\\ncomply\\nand\\nenforce\\nthe\\ncommitments\\nunder\\nthis\\nundertaking\\n(“Authorized \\nPersonnel”).\\nWithout\\nlimiting\\nthe\\nforegoing,\\nthe\\nAdvisor\\nis\\nliable\\nhereunder\\nfor\\nany\\nbreach\\nof\\nthis\\nundertaking\\nby\\nany\\nAdvisor\\nPersonnel.\\n7.\\nThird\\nParties:\\nThe\\nAdvisor\\nrepresents\\nthat\\nthe\\nperformance\\nof\\nthe\\nServices\\nand\\nthe\\nterms\\nof\\nthis\\nUndertaking,\\ndo\\nnot\\nand\\nwill\\nnot\\nbreach \\nany\\nright,\\ncontractual\\nor\\nother ,\\nof\\nany\\nemployer ,\\ncustomer\\nor\\nother\\nthird\\nparty .\\nAdvisor\\nacknowledges\\nthat\\nthe\\nCompany\\nis\\nrelying\\nupon\\nthe \\ntruthfulness\\nand\\naccuracy\\nof\\nsuch\\nrepresentations\\nin\\nengaging\\nwith\\nthe\\nAdvisor .\\nAdvisor\\nspecifically\\nundertakes\\nnot\\nto\\nuse\\nany\\nproprietary \\nand/or\\nconfidential\\ninformation\\nbelonging\\nto\\nthe\\nAdvisor\\nand/or\\nany\\nthird\\nparty\\nwhile\\nperforming\\nthe\\nServices\\nand\\nin\\ncase\\nany\\nAdvisor \\nproprietary\\nor\\nconfidential\\ninformation\\nis\\nused,\\nsuch\\ninformation\\nwill\\nbe\\nautomatically\\nassigned\\nto\\nthe\\nCompany\\nand\\nbecome\\nits\\nfull\\nand \\nexclusive\\nproperty .\\n8.\\nJurisdiction:\\nThis\\nUndertaking\\nshall\\nbe\\ngoverned\\nby\\nand\\nconstrued\\nin\\naccordance\\nwith\\nthe\\nlaws\\nof\\nthe\\nState\\nof\\nIsrael,\\nwithout\\ngiving\\neffect \\nto\\nits\\nlaws\\npertaining\\nto\\nconflict\\nof\\nlaws. \\nThe\\nAdvisor\\nagrees\\nthat\\nany\\nand\\nall\\ndisputes\\nin\\nconnection\\nwith\\nthis\\nUndertaking\\nshall\\nbe \\nsubmitted\\nto\\nthe\\nexclusive\\njurisdiction\\nof\\nthe\\ncompetent\\ncourts\\nin\\nthe\\ncity\\nof\\nTel\\nAviv-Y afo,\\nIsrael.\\n9.\\nPre-Undertaking:\\nIn\\ncase\\nthe\\nAdvisor\\nhas\\nbeen\\nproviding\\nServices\\nto\\nthe\\nCompany\\nbefore\\nthe\\nEffective\\nDate\\n(“Pre-Undertaking\\nPeriod”), \\nthis\\nUndertaking\\nshall\\nalso\\napply\\nto\\nthe\\nPre-Undertaking\\nPeriod,\\nincluding,\\nif\\nrelevant,\\nbefore\\nCompany’ s\\nincorporation.\\nThe\\nCompany\\nmay \\nassign\\nthis\\nundertaking\\nto\\nthird\\nparties.\\nIN\\nWITNESS\\nWHEREOF\\n,\\nthe\\nundersigned\\nhas\\nexecuted\\nthis\\nUndertaking\\nas\\nof\\nthe\\nEffective\\nDate.\\nAdvisor\\nBy:\\n_____________________________________\\nName:\\nJack\\nRobinson', metadata={'source': './data/Robinson Advisory.docx.pdf', 'page': 3})]"
      ]
     },
     "execution_count": 5,
     "metadata": {},
     "output_type": "execute_result"
    }
   ],
   "source": [
    "\n",
    "loader_test = PyPDFLoader(\"./data/Robinson Advisory.docx.pdf\")\n",
    "docs_test = loader_test.load()\n",
    "docs_test"
   ]
  },
  {
   "cell_type": "markdown",
   "metadata": {},
   "source": [
    "# Retrieving full documents\n",
    "In this mode, we want to retrieve the full documents. Therefore, we only specify a child splitter."
   ]
  },
  {
   "cell_type": "code",
   "execution_count": 6,
   "metadata": {},
   "outputs": [
    {
     "name": "stderr",
     "output_type": "stream",
     "text": [
      "/home/crs/10Academy/w11/Contract-Advisor-RAG/w11_rag/lib/python3.10/site-packages/tqdm/auto.py:21: TqdmWarning: IProgress not found. Please update jupyter and ipywidgets. See https://ipywidgets.readthedocs.io/en/stable/user_install.html\n",
      "  from .autonotebook import tqdm as notebook_tqdm\n"
     ]
    }
   ],
   "source": [
    "import chromadb\n",
    "from chromadb.utils.embedding_functions import SentenceTransformerEmbeddingFunction\n",
    "\n",
    "st_embedder = SentenceTransformerEmbeddings()\n",
    "openai_embedder = OpenAIEmbeddings()"
   ]
  },
  {
   "cell_type": "code",
   "execution_count": 7,
   "metadata": {},
   "outputs": [],
   "source": [
    "# This text splitter is used to create the child documents\n",
    "child_splitter = RecursiveCharacterTextSplitter(chunk_size=400)\n",
    "# The vectorstore to use to index the child chunks\n",
    "vectorstore = Chroma(\n",
    "    collection_name=\"full_documents\", embedding_function=SentenceTransformerEmbeddings()\n",
    ")\n",
    "# The storage layer for the parent documents\n",
    "store = InMemoryStore()\n",
    "retriever = ParentDocumentRetriever(\n",
    "    vectorstore=vectorstore,\n",
    "    docstore=store,\n",
    "    child_splitter=child_splitter,\n",
    ")"
   ]
  },
  {
   "cell_type": "code",
   "execution_count": 8,
   "metadata": {},
   "outputs": [],
   "source": [
    "retriever.add_documents(docs_test, ids=None)"
   ]
  },
  {
   "cell_type": "markdown",
   "metadata": {},
   "source": [
    "This should yield two keys, because we added two documents. However, this is not the case because we use PyPDFLoader rather DirectoryLoader."
   ]
  },
  {
   "cell_type": "code",
   "execution_count": 9,
   "metadata": {},
   "outputs": [
    {
     "data": {
      "text/plain": [
       "['7945f33c-d3ec-406b-87e4-50e92fea56e8',\n",
       " 'f578361e-57e2-4f4f-b62f-cb0a99c506ec',\n",
       " '49ef6d00-8881-46bd-8b34-8d4a1f6cd85a',\n",
       " '9dfcb5d8-9e21-449f-8453-d648abfd07dd']"
      ]
     },
     "execution_count": 9,
     "metadata": {},
     "output_type": "execute_result"
    }
   ],
   "source": [
    "list(store.yield_keys())"
   ]
  },
  {
   "cell_type": "markdown",
   "metadata": {},
   "source": [
    "Let’s now call the vector store search functionality - we should see that it returns small chunks (since we’re storing the small chunks)."
   ]
  },
  {
   "cell_type": "code",
   "execution_count": 10,
   "metadata": {},
   "outputs": [],
   "source": [
    "sub_docs = vectorstore.similarity_search(\"In which street does the Advisor live?\")"
   ]
  },
  {
   "cell_type": "code",
   "execution_count": 11,
   "metadata": {},
   "outputs": [
    {
     "data": {
      "text/plain": [
       "[Document(page_content='(the\\n\"\\nCompany\\n\"),\\nand\\nMr.\\nJack \\nRobinson,\\nPassport\\nNumber\\n780055578,\\nresiding\\nat\\n1\\nRabin\\nst,\\nTel\\nAviv,\\nIsrael,\\nEmail: \\njackrobinson@gmail.com\\n(\"\\nAdvisor\\n\").\\nWhereas,\\nAdvisor\\nhas\\nexpertise\\nand/or\\nknowledge\\nand/or\\nrelationships,\\nwhich\\nare\\nrelevant\\nto\\nthe \\nCompany’ s\\nbusiness\\nand\\nthe\\nCompany\\nhas\\nasked\\nAdvisor\\nto\\nprovide\\nit\\nwith\\ncertain\\nAdvisory \\nservices,\\nas\\ndescribed\\nin\\nthis\\nAgreement;\\nand', metadata={'doc_id': '7945f33c-d3ec-406b-87e4-50e92fea56e8', 'page': 0, 'source': './data/Robinson Advisory.docx.pdf'}),\n",
       " Document(page_content='ADVISOR Y\\nSER VICES\\nAGREEMENT\\nThis\\nAdvisory\\nServices\\nAgreement\\nis\\nentered\\ninto\\nas\\nof\\nJune\\n15\\nth\\n,\\n2023\\n(the\\n“\\nEffective\\nDate\\n”),\\nby\\nand \\nbetween\\nCloud\\nInvestments\\nLtd.,\\nID\\n51-426526-3,\\nan\\nIsraeli\\ncompany\\n(the\\n\"\\nCompany\\n\"),\\nand\\nMr.\\nJack \\nRobinson,\\nPassport\\nNumber\\n780055578,\\nresiding\\nat\\n1\\nRabin\\nst,\\nTel\\nAviv,\\nIsrael,\\nEmail: \\njackrobinson@gmail.com\\n(\"\\nAdvisor\\n\").\\nWhereas,\\nAdvisor\\nhas\\nexpertise\\nand/or', metadata={'doc_id': '7945f33c-d3ec-406b-87e4-50e92fea56e8', 'page': 0, 'source': './data/Robinson Advisory.docx.pdf'}),\n",
       " Document(page_content='and\\nfor\\na\\nperiod\\nof\\n12\\nmonths\\nthereafter ,\\nAdvisor\\nshall\\nnot\\nbe\\ninvolved, \\nas\\nan\\nemployee,\\nowner ,\\ncontractor\\nor\\notherwise,\\nin\\nany\\nbusiness,\\nwhich\\ncompetes\\nwith\\nthe\\nCompany’ s\\nBusiness,\\nand\\nshall\\nnot\\nsolicit\\nand/or \\nhire\\nany\\nemployee\\nand/or\\nservice\\nprovider\\nof\\nthe\\nCompany ,\\nwithout\\nthe\\nprior\\nwritten\\nconsent\\nof\\nthe\\nCompany .\\n6.\\nPersonnel:\\nThe\\nAdvisor\\nmay\\nprovide\\nthe\\nServices\\nonly\\ndirectly\\nor', metadata={'doc_id': '9dfcb5d8-9e21-449f-8453-d648abfd07dd', 'page': 3, 'source': './data/Robinson Advisory.docx.pdf'}),\n",
       " Document(page_content='and\\nwill\\nnot\\nbreach \\nany\\nright,\\ncontractual\\nor\\nother ,\\nof\\nany\\nemployer ,\\ncustomer\\nor\\nother\\nthird\\nparty .\\nAdvisor\\nacknowledges\\nthat\\nthe\\nCompany\\nis\\nrelying\\nupon\\nthe \\ntruthfulness\\nand\\naccuracy\\nof\\nsuch\\nrepresentations\\nin\\nengaging\\nwith\\nthe\\nAdvisor .\\nAdvisor\\nspecifically\\nundertakes\\nnot\\nto\\nuse\\nany\\nproprietary \\nand/or\\nconfidential\\ninformation\\nbelonging\\nto\\nthe\\nAdvisor\\nand/or\\nany\\nthird\\nparty\\nwhile', metadata={'doc_id': '9dfcb5d8-9e21-449f-8453-d648abfd07dd', 'page': 3, 'source': './data/Robinson Advisory.docx.pdf'})]"
      ]
     },
     "execution_count": 11,
     "metadata": {},
     "output_type": "execute_result"
    }
   ],
   "source": [
    "sub_docs"
   ]
  },
  {
   "cell_type": "code",
   "execution_count": 12,
   "metadata": {},
   "outputs": [
    {
     "data": {
      "text/markdown": [
       "(the\n",
       "\"\n",
       "Company\n",
       "\"),\n",
       "and\n",
       "Mr.\n",
       "Jack \n",
       "Robinson,\n",
       "Passport\n",
       "Number\n",
       "780055578,\n",
       "residing\n",
       "at\n",
       "1\n",
       "Rabin\n",
       "st,\n",
       "Tel\n",
       "Aviv,\n",
       "Israel,\n",
       "Email: \n",
       "jackrobinson@gmail.com\n",
       "(\"\n",
       "Advisor\n",
       "\").\n",
       "Whereas,\n",
       "Advisor\n",
       "has\n",
       "expertise\n",
       "and/or\n",
       "knowledge\n",
       "and/or\n",
       "relationships,\n",
       "which\n",
       "are\n",
       "relevant\n",
       "to\n",
       "the \n",
       "Company’ s\n",
       "business\n",
       "and\n",
       "the\n",
       "Company\n",
       "has\n",
       "asked\n",
       "Advisor\n",
       "to\n",
       "provide\n",
       "it\n",
       "with\n",
       "certain\n",
       "Advisory \n",
       "services,\n",
       "as\n",
       "described\n",
       "in\n",
       "this\n",
       "Agreement;\n",
       "and"
      ],
      "text/plain": [
       "<IPython.core.display.Markdown object>"
      ]
     },
     "metadata": {},
     "output_type": "display_data"
    }
   ],
   "source": [
    "display(Markdown(f\"{sub_docs[0].page_content}\"))"
   ]
  },
  {
   "cell_type": "markdown",
   "metadata": {},
   "source": [
    "It contains the answer: `1 Rabin st, Tel Aviv, Israel`"
   ]
  },
  {
   "cell_type": "code",
   "execution_count": 13,
   "metadata": {},
   "outputs": [
    {
     "data": {
      "text/plain": [
       "391"
      ]
     },
     "execution_count": 13,
     "metadata": {},
     "output_type": "execute_result"
    }
   ],
   "source": [
    "len(sub_docs[0].page_content)"
   ]
  },
  {
   "cell_type": "markdown",
   "metadata": {},
   "source": [
    "Let’s now retrieve from the overall retriever. This should return large documents - since it returns the documents where the smaller chunks are located."
   ]
  },
  {
   "cell_type": "code",
   "execution_count": 14,
   "metadata": {},
   "outputs": [],
   "source": [
    "retrieved_docs = retriever.get_relevant_documents(\"In which street does the Advisor live?\")"
   ]
  },
  {
   "cell_type": "code",
   "execution_count": 15,
   "metadata": {},
   "outputs": [
    {
     "data": {
      "text/plain": [
       "3442"
      ]
     },
     "execution_count": 15,
     "metadata": {},
     "output_type": "execute_result"
    }
   ],
   "source": [
    "len(retrieved_docs[0].page_content)"
   ]
  },
  {
   "cell_type": "code",
   "execution_count": 16,
   "metadata": {},
   "outputs": [
    {
     "data": {
      "text/markdown": [
       "ADVISOR Y\n",
       "SER VICES\n",
       "AGREEMENT\n",
       "This\n",
       "Advisory\n",
       "Services\n",
       "Agreement\n",
       "is\n",
       "entered\n",
       "into\n",
       "as\n",
       "of\n",
       "June\n",
       "15\n",
       "th\n",
       ",\n",
       "2023\n",
       "(the\n",
       "“\n",
       "Effective\n",
       "Date\n",
       "”),\n",
       "by\n",
       "and \n",
       "between\n",
       "Cloud\n",
       "Investments\n",
       "Ltd.,\n",
       "ID\n",
       "51-426526-3,\n",
       "an\n",
       "Israeli\n",
       "company\n",
       "(the\n",
       "\"\n",
       "Company\n",
       "\"),\n",
       "and\n",
       "Mr.\n",
       "Jack \n",
       "Robinson,\n",
       "Passport\n",
       "Number\n",
       "780055578,\n",
       "residing\n",
       "at\n",
       "1\n",
       "Rabin\n",
       "st,\n",
       "Tel\n",
       "Aviv,\n",
       "Israel,\n",
       "Email: \n",
       "jackrobinson@gmail.com\n",
       "(\"\n",
       "Advisor\n",
       "\").\n",
       "Whereas,\n",
       "Advisor\n",
       "has\n",
       "expertise\n",
       "and/or\n",
       "knowledge\n",
       "and/or\n",
       "relationships,\n",
       "which\n",
       "are\n",
       "relevant\n",
       "to\n",
       "the \n",
       "Company’ s\n",
       "business\n",
       "and\n",
       "the\n",
       "Company\n",
       "has\n",
       "asked\n",
       "Advisor\n",
       "to\n",
       "provide\n",
       "it\n",
       "with\n",
       "certain\n",
       "Advisory \n",
       "services,\n",
       "as\n",
       "described\n",
       "in\n",
       "this\n",
       "Agreement;\n",
       "and\n",
       "Whereas,\n",
       "Advisor\n",
       "has\n",
       "agreed\n",
       "to\n",
       "provide\n",
       "the\n",
       "Company\n",
       "with\n",
       "such\n",
       "services,\n",
       "subject\n",
       "to\n",
       "the\n",
       "terms\n",
       "set\n",
       "forth \n",
       "in\n",
       "this\n",
       "Agreement.\n",
       "NOW\n",
       "THEREFORE\n",
       "THE\n",
       "PARTIES\n",
       "AGREE\n",
       "AS\n",
       "FOLLOWS:\n",
       "1.\n",
       "Services:\n",
       "1.1\n",
       "Advisor\n",
       "shall\n",
       "provide\n",
       "to\n",
       "the\n",
       "Company ,\n",
       "as\n",
       "an\n",
       "independent\n",
       "contractor ,\n",
       "software\n",
       "development \n",
       "services,\n",
       "and\n",
       "/\n",
       "or\n",
       "any\n",
       "other\n",
       "services\n",
       "as\n",
       "agreed\n",
       "by\n",
       "the\n",
       "parties\n",
       "from\n",
       "time\n",
       "to\n",
       "time\n",
       "(the\n",
       "“\n",
       "Services\n",
       "”). \n",
       "Advisor\n",
       "shall\n",
       "not\n",
       "appoint\n",
       "any\n",
       "sub-agents\n",
       "or\n",
       "delegates\n",
       "in\n",
       "connection\n",
       "with\n",
       "performance\n",
       "of\n",
       "the \n",
       "Services,\n",
       "nor\n",
       "assign\n",
       "any\n",
       "of\n",
       "his\n",
       "obligations\n",
       "or\n",
       "rights\n",
       "hereunder\n",
       "without\n",
       "obtaining\n",
       "the\n",
       "prior\n",
       "written \n",
       "consent\n",
       "of\n",
       "the\n",
       "Company .\n",
       "Without\n",
       "derogating\n",
       "from\n",
       "the\n",
       "foregoing,\n",
       "the\n",
       "Advisor\n",
       "shall\n",
       "not\n",
       "be\n",
       "required\n",
       "to\n",
       "provide\n",
       "the\n",
       "Services \n",
       "for\n",
       "a\n",
       "period\n",
       "of\n",
       "eighteen\n",
       "(18)\n",
       "days\n",
       "in\n",
       "each\n",
       "12-month\n",
       "period.\n",
       "1.2\n",
       "In\n",
       "performing\n",
       "the\n",
       "Services,\n",
       "Advisor\n",
       "shall\n",
       "devote\n",
       "his\n",
       "time,\n",
       "know-how ,\n",
       "expertise,\n",
       "talent, \n",
       "experience\n",
       "and\n",
       "best\n",
       "efforts\n",
       "and\n",
       "attention\n",
       "to\n",
       "the\n",
       "provision\n",
       "of\n",
       "the\n",
       "Services,\n",
       "as\n",
       "shall\n",
       "be\n",
       "reasonably \n",
       "required\n",
       "by\n",
       "the\n",
       "Company .\n",
       "Advisor\n",
       "shall\n",
       "render\n",
       "the\n",
       "Services\n",
       "in\n",
       "a\n",
       "diligent\n",
       "manner\n",
       "and\n",
       "at\n",
       "a\n",
       "high \n",
       "professional\n",
       "standard\n",
       "for\n",
       "the\n",
       "benefit\n",
       "of\n",
       "the\n",
       "Company\n",
       "and\n",
       "shall\n",
       "perform\n",
       "and\n",
       "dischar ge\n",
       "well\n",
       "and \n",
       "faithfully ,\n",
       "with\n",
       "devotion,\n",
       "honesty\n",
       "and\n",
       "fidelity ,\n",
       "his\n",
       "obligations\n",
       "hereunder .\n",
       "1.3\n",
       "Advisor\n",
       "further\n",
       "agrees\n",
       "and\n",
       "undertakes\n",
       "to\n",
       "(i)\n",
       "comply\n",
       "with\n",
       "all\n",
       "the\n",
       "Company's\n",
       "policies,\n",
       "procedures \n",
       "and\n",
       "objectives,\n",
       "as\n",
       "in\n",
       "effect\n",
       "from\n",
       "time\n",
       "to\n",
       "time;\n",
       "(ii)\n",
       "adhere\n",
       "to\n",
       "any\n",
       "applicable\n",
       "law\n",
       "or\n",
       "provision, \n",
       "pertaining\n",
       "to\n",
       "his\n",
       "services;\n",
       "(iii)\n",
       "not\n",
       "take\n",
       "any\n",
       "action\n",
       "with\n",
       "the\n",
       "intention\n",
       "that\n",
       "the\n",
       "same\n",
       "will\n",
       "cause \n",
       "material\n",
       "damage\n",
       "to\n",
       "the\n",
       "good\n",
       "name\n",
       "of\n",
       "the\n",
       "Company;\n",
       "(iv)\n",
       "keep\n",
       "the\n",
       "contents\n",
       "of\n",
       "this\n",
       "Agreement \n",
       "confidential\n",
       "and\n",
       "not\n",
       "to\n",
       "disclose\n",
       "the\n",
       "existence\n",
       "or\n",
       "contents\n",
       "of\n",
       "this\n",
       "Agreement\n",
       "to\n",
       "any\n",
       "third\n",
       "party \n",
       "without\n",
       "the\n",
       "prior\n",
       "written\n",
       "consent\n",
       "of\n",
       "the\n",
       "Company .\n",
       "2.\n",
       "Time\n",
       "Tracking:\n",
       "Advisor\n",
       "shall\n",
       "provide\n",
       "the\n",
       "Company\n",
       "with\n",
       "a\n",
       "written\n",
       "report,\n",
       "in\n",
       "a\n",
       "format\n",
       "acceptable\n",
       "by \n",
       "the\n",
       "Company ,\n",
       "setting\n",
       "forth\n",
       "the\n",
       "number\n",
       "of\n",
       "hours\n",
       "in\n",
       "which\n",
       "he\n",
       "provided\n",
       "the\n",
       "Services,\n",
       "on\n",
       "a\n",
       "daily\n",
       "basis,\n",
       "as \n",
       "well\n",
       "as\n",
       "an\n",
       "aggregated\n",
       "monthly\n",
       "report\n",
       "at\n",
       "the\n",
       "last\n",
       "day\n",
       "of\n",
       "each\n",
       "calendar\n",
       "month.\n",
       "3.\n",
       "No\n",
       "Conflicts:\n",
       "Advisor\n",
       "represents\n",
       "that\n",
       "there\n",
       "is\n",
       "no\n",
       "contractual\n",
       "or\n",
       "other\n",
       "legal\n",
       "restriction\n",
       "preventing\n",
       "or \n",
       "limiting\n",
       "him/her\n",
       "from\n",
       "entering\n",
       "into\n",
       "this\n",
       "Agreement\n",
       "or\n",
       "performing\n",
       "any\n",
       "of\n",
       "his/her\n",
       "obligations \n",
       "hereunder .\n",
       "Advisor\n",
       "shall\n",
       "immediately\n",
       "and\n",
       "without\n",
       "delay\n",
       "inform\n",
       "the\n",
       "Company\n",
       "of\n",
       "any\n",
       "affairs\n",
       "and/or \n",
       "matters\n",
       "that\n",
       "might\n",
       "constitute\n",
       "a\n",
       "conflict\n",
       "of\n",
       "interest\n",
       "with\n",
       "his/her\n",
       "services\n",
       "to\n",
       "Company\n",
       "and/or\n",
       "the \n",
       "interests\n",
       "of\n",
       "the\n",
       "Company .\n",
       "Advisor\n",
       "agrees\n",
       "to\n",
       "indemnify ,\n",
       "defend\n",
       "and\n",
       "hold\n",
       "harmless\n",
       "the\n",
       "Company\n",
       "and \n",
       "its\n",
       "directors,\n",
       "officers\n",
       "and\n",
       "employees\n",
       "against\n",
       "all\n",
       "claims,\n",
       "liabilities,\n",
       "and\n",
       "costs,\n",
       "including\n",
       "reasonable \n",
       "attorneys'\n",
       "fees\n",
       "in\n",
       "connection\n",
       "with\n",
       "any\n",
       "breach\n",
       "by\n",
       "Advisor ,\n",
       "of\n",
       "any\n",
       "obligations\n",
       "pursuant\n",
       "to\n",
       "a\n",
       "prior\n",
       "or \n",
       "existing\n",
       "engagement\n",
       "with\n",
       "any\n",
       "other\n",
       "third\n",
       "party ,\n",
       "including\n",
       "without\n",
       "limitation\n",
       "other\n",
       "employers\n",
       "or \n",
       "clients."
      ],
      "text/plain": [
       "<IPython.core.display.Markdown object>"
      ]
     },
     "metadata": {},
     "output_type": "display_data"
    }
   ],
   "source": [
    "display(Markdown(f\"{retrieved_docs[0].page_content}\"))"
   ]
  },
  {
   "cell_type": "markdown",
   "metadata": {},
   "source": [
    "# Retrieving larger chunks\n",
    "Sometimes, the full documents can be too big to want to retrieve them as is. In that case, what we really want to do is to first split the raw documents into larger chunks, and then split it into smaller chunks. We then index the smaller chunks, but on retrieval we retrieve the larger chunks (but still not the full documents)."
   ]
  },
  {
   "cell_type": "code",
   "execution_count": 17,
   "metadata": {},
   "outputs": [],
   "source": [
    "# This text splitter is used to create the parent documents\n",
    "parent_splitter = RecursiveCharacterTextSplitter(chunk_size=2000)\n",
    "# This text splitter is used to create the child documents\n",
    "# It should create documents smaller than the parent\n",
    "child_splitter = RecursiveCharacterTextSplitter(chunk_size=400)\n",
    "# The vectorstore to use to index the child chunks\n",
    "vectorstore = Chroma(\n",
    "    collection_name=\"split_parents\", embedding_function=st_embedder\n",
    ")\n",
    "# The storage layer for the parent documents\n",
    "store = InMemoryStore()"
   ]
  },
  {
   "cell_type": "code",
   "execution_count": 18,
   "metadata": {},
   "outputs": [],
   "source": [
    "retriever = ParentDocumentRetriever(\n",
    "    vectorstore=vectorstore,\n",
    "    docstore=store,\n",
    "    child_splitter=child_splitter,\n",
    "    parent_splitter=parent_splitter,\n",
    ")"
   ]
  },
  {
   "cell_type": "code",
   "execution_count": 19,
   "metadata": {},
   "outputs": [],
   "source": [
    "retriever.add_documents(docs_test)"
   ]
  },
  {
   "cell_type": "markdown",
   "metadata": {},
   "source": [
    "We can see that there are much more than four documents now - these are the larger chunks."
   ]
  },
  {
   "cell_type": "code",
   "execution_count": 20,
   "metadata": {},
   "outputs": [
    {
     "data": {
      "text/plain": [
       "9"
      ]
     },
     "execution_count": 20,
     "metadata": {},
     "output_type": "execute_result"
    }
   ],
   "source": [
    "len(list(store.yield_keys()))"
   ]
  },
  {
   "cell_type": "markdown",
   "metadata": {},
   "source": [
    "Let’s make sure the underlying vector store still retrieves the small chunks."
   ]
  },
  {
   "cell_type": "code",
   "execution_count": 21,
   "metadata": {},
   "outputs": [],
   "source": [
    "sub_docs = vectorstore.similarity_search(\"In which street does the Advisor live?\")"
   ]
  },
  {
   "cell_type": "code",
   "execution_count": 22,
   "metadata": {},
   "outputs": [
    {
     "data": {
      "text/plain": [
       "[Document(page_content='(the\\n\"\\nCompany\\n\"),\\nand\\nMr.\\nJack \\nRobinson,\\nPassport\\nNumber\\n780055578,\\nresiding\\nat\\n1\\nRabin\\nst,\\nTel\\nAviv,\\nIsrael,\\nEmail: \\njackrobinson@gmail.com\\n(\"\\nAdvisor\\n\").\\nWhereas,\\nAdvisor\\nhas\\nexpertise\\nand/or\\nknowledge\\nand/or\\nrelationships,\\nwhich\\nare\\nrelevant\\nto\\nthe \\nCompany’ s\\nbusiness\\nand\\nthe\\nCompany\\nhas\\nasked\\nAdvisor\\nto\\nprovide\\nit\\nwith\\ncertain\\nAdvisory \\nservices,\\nas\\ndescribed\\nin\\nthis\\nAgreement;\\nand', metadata={'doc_id': '93bca945-cbdf-4b0f-8452-96f48f1dc305', 'page': 0, 'source': './data/Robinson Advisory.docx.pdf'}),\n",
       " Document(page_content='accordance\\nwith\\nthe\\nlaws\\nof\\nthe\\nState\\nof\\nIsrael,\\nwithout\\ngiving\\neffect \\nto\\nits\\nlaws\\npertaining\\nto\\nconflict\\nof\\nlaws. \\nThe\\nAdvisor\\nagrees\\nthat\\nany\\nand\\nall\\ndisputes\\nin\\nconnection\\nwith\\nthis\\nUndertaking\\nshall\\nbe \\nsubmitted\\nto\\nthe\\nexclusive\\njurisdiction\\nof\\nthe\\ncompetent\\ncourts\\nin\\nthe\\ncity\\nof\\nTel\\nAviv-Y afo,\\nIsrael.\\n9.\\nPre-Undertaking:\\nIn\\ncase\\nthe\\nAdvisor\\nhas\\nbeen\\nproviding\\nServices\\nto\\nthe\\nCompany', metadata={'doc_id': 'f13f339b-742d-4a57-a3e5-1977863bde30', 'page': 3, 'source': './data/Robinson Advisory.docx.pdf'}),\n",
       " Document(page_content='ADVISOR Y\\nSER VICES\\nAGREEMENT\\nThis\\nAdvisory\\nServices\\nAgreement\\nis\\nentered\\ninto\\nas\\nof\\nJune\\n15\\nth\\n,\\n2023\\n(the\\n“\\nEffective\\nDate\\n”),\\nby\\nand \\nbetween\\nCloud\\nInvestments\\nLtd.,\\nID\\n51-426526-3,\\nan\\nIsraeli\\ncompany\\n(the\\n\"\\nCompany\\n\"),\\nand\\nMr.\\nJack \\nRobinson,\\nPassport\\nNumber\\n780055578,\\nresiding\\nat\\n1\\nRabin\\nst,\\nTel\\nAviv,\\nIsrael,\\nEmail: \\njackrobinson@gmail.com\\n(\"\\nAdvisor\\n\").\\nWhereas,\\nAdvisor\\nhas\\nexpertise\\nand/or', metadata={'doc_id': '93bca945-cbdf-4b0f-8452-96f48f1dc305', 'page': 0, 'source': './data/Robinson Advisory.docx.pdf'}),\n",
       " Document(page_content='or\\nagents\\n(“Personnel”),\\nwhich\\nwere \\nspecifically\\napproved\\nby\\nthe\\nCompany ,\\nand\\nhave\\ncommitted\\nin\\nwriting\\nto\\nconfidentiality\\nand\\nownership\\nrights\\ntowards\\nthe\\nAdvisor\\nand/or \\nthe\\nCompany ,\\nin\\na\\nform\\nrestrictive\\nenough\\nto\\nallow\\nAdvisor\\nto\\ncomply\\nand\\nenforce\\nthe\\ncommitments\\nunder\\nthis\\nundertaking\\n(“Authorized \\nPersonnel”).\\nWithout\\nlimiting\\nthe\\nforegoing,\\nthe\\nAdvisor\\nis\\nliable\\nhereunder\\nfor\\nany', metadata={'doc_id': '9f9a0b85-6bd3-420f-8ca9-9d5586be82e8', 'page': 3, 'source': './data/Robinson Advisory.docx.pdf'})]"
      ]
     },
     "execution_count": 22,
     "metadata": {},
     "output_type": "execute_result"
    }
   ],
   "source": [
    "sub_docs"
   ]
  },
  {
   "cell_type": "code",
   "execution_count": 23,
   "metadata": {},
   "outputs": [
    {
     "data": {
      "text/markdown": [
       "(the\n",
       "\"\n",
       "Company\n",
       "\"),\n",
       "and\n",
       "Mr.\n",
       "Jack \n",
       "Robinson,\n",
       "Passport\n",
       "Number\n",
       "780055578,\n",
       "residing\n",
       "at\n",
       "1\n",
       "Rabin\n",
       "st,\n",
       "Tel\n",
       "Aviv,\n",
       "Israel,\n",
       "Email: \n",
       "jackrobinson@gmail.com\n",
       "(\"\n",
       "Advisor\n",
       "\").\n",
       "Whereas,\n",
       "Advisor\n",
       "has\n",
       "expertise\n",
       "and/or\n",
       "knowledge\n",
       "and/or\n",
       "relationships,\n",
       "which\n",
       "are\n",
       "relevant\n",
       "to\n",
       "the \n",
       "Company’ s\n",
       "business\n",
       "and\n",
       "the\n",
       "Company\n",
       "has\n",
       "asked\n",
       "Advisor\n",
       "to\n",
       "provide\n",
       "it\n",
       "with\n",
       "certain\n",
       "Advisory \n",
       "services,\n",
       "as\n",
       "described\n",
       "in\n",
       "this\n",
       "Agreement;\n",
       "and"
      ],
      "text/plain": [
       "<IPython.core.display.Markdown object>"
      ]
     },
     "metadata": {},
     "output_type": "display_data"
    }
   ],
   "source": [
    "display(Markdown(f\"{sub_docs[0].page_content}\"))"
   ]
  },
  {
   "cell_type": "code",
   "execution_count": 24,
   "metadata": {},
   "outputs": [
    {
     "data": {
      "text/plain": [
       "[Document(page_content='ADVISOR Y\\nSER VICES\\nAGREEMENT\\nThis\\nAdvisory\\nServices\\nAgreement\\nis\\nentered\\ninto\\nas\\nof\\nJune\\n15\\nth\\n,\\n2023\\n(the\\n“\\nEffective\\nDate\\n”),\\nby\\nand \\nbetween\\nCloud\\nInvestments\\nLtd.,\\nID\\n51-426526-3,\\nan\\nIsraeli\\ncompany\\n(the\\n\"\\nCompany\\n\"),\\nand\\nMr.\\nJack \\nRobinson,\\nPassport\\nNumber\\n780055578,\\nresiding\\nat\\n1\\nRabin\\nst,\\nTel\\nAviv,\\nIsrael,\\nEmail: \\njackrobinson@gmail.com\\n(\"\\nAdvisor\\n\").\\nWhereas,\\nAdvisor\\nhas\\nexpertise\\nand/or\\nknowledge\\nand/or\\nrelationships,\\nwhich\\nare\\nrelevant\\nto\\nthe \\nCompany’ s\\nbusiness\\nand\\nthe\\nCompany\\nhas\\nasked\\nAdvisor\\nto\\nprovide\\nit\\nwith\\ncertain\\nAdvisory \\nservices,\\nas\\ndescribed\\nin\\nthis\\nAgreement;\\nand\\nWhereas,\\nAdvisor\\nhas\\nagreed\\nto\\nprovide\\nthe\\nCompany\\nwith\\nsuch\\nservices,\\nsubject\\nto\\nthe\\nterms\\nset\\nforth \\nin\\nthis\\nAgreement.\\nNOW\\nTHEREFORE\\nTHE\\nPARTIES\\nAGREE\\nAS\\nFOLLOWS:\\n1.\\nServices:\\n1.1\\nAdvisor\\nshall\\nprovide\\nto\\nthe\\nCompany ,\\nas\\nan\\nindependent\\ncontractor ,\\nsoftware\\ndevelopment \\nservices,\\nand\\n/\\nor\\nany\\nother\\nservices\\nas\\nagreed\\nby\\nthe\\nparties\\nfrom\\ntime\\nto\\ntime\\n(the\\n“\\nServices\\n”). \\nAdvisor\\nshall\\nnot\\nappoint\\nany\\nsub-agents\\nor\\ndelegates\\nin\\nconnection\\nwith\\nperformance\\nof\\nthe \\nServices,\\nnor\\nassign\\nany\\nof\\nhis\\nobligations\\nor\\nrights\\nhereunder\\nwithout\\nobtaining\\nthe\\nprior\\nwritten \\nconsent\\nof\\nthe\\nCompany .\\nWithout\\nderogating\\nfrom\\nthe\\nforegoing,\\nthe\\nAdvisor\\nshall\\nnot\\nbe\\nrequired\\nto\\nprovide\\nthe\\nServices \\nfor\\na\\nperiod\\nof\\neighteen\\n(18)\\ndays\\nin\\neach\\n12-month\\nperiod.\\n1.2\\nIn\\nperforming\\nthe\\nServices,\\nAdvisor\\nshall\\ndevote\\nhis\\ntime,\\nknow-how ,\\nexpertise,\\ntalent, \\nexperience\\nand\\nbest\\nefforts\\nand\\nattention\\nto\\nthe\\nprovision\\nof\\nthe\\nServices,\\nas\\nshall\\nbe\\nreasonably \\nrequired\\nby\\nthe\\nCompany .\\nAdvisor\\nshall\\nrender\\nthe\\nServices\\nin\\na\\ndiligent\\nmanner\\nand\\nat\\na\\nhigh \\nprofessional\\nstandard\\nfor\\nthe\\nbenefit\\nof\\nthe\\nCompany\\nand\\nshall\\nperform\\nand\\ndischar ge\\nwell\\nand \\nfaithfully ,\\nwith\\ndevotion,\\nhonesty\\nand\\nfidelity ,\\nhis\\nobligations\\nhereunder .\\n1.3\\nAdvisor\\nfurther\\nagrees\\nand\\nundertakes\\nto\\n(i)\\ncomply\\nwith\\nall\\nthe\\nCompany\\'s\\npolicies,\\nprocedures \\nand\\nobjectives,\\nas\\nin\\neffect\\nfrom\\ntime\\nto\\ntime;\\n(ii)\\nadhere\\nto\\nany\\napplicable\\nlaw\\nor', metadata={'source': './data/Robinson Advisory.docx.pdf', 'page': 0}),\n",
       " Document(page_content='by\\nany\\nAdvisor\\nPersonnel.\\n7.\\nThird\\nParties:\\nThe\\nAdvisor\\nrepresents\\nthat\\nthe\\nperformance\\nof\\nthe\\nServices\\nand\\nthe\\nterms\\nof\\nthis\\nUndertaking,\\ndo\\nnot\\nand\\nwill\\nnot\\nbreach \\nany\\nright,\\ncontractual\\nor\\nother ,\\nof\\nany\\nemployer ,\\ncustomer\\nor\\nother\\nthird\\nparty .\\nAdvisor\\nacknowledges\\nthat\\nthe\\nCompany\\nis\\nrelying\\nupon\\nthe \\ntruthfulness\\nand\\naccuracy\\nof\\nsuch\\nrepresentations\\nin\\nengaging\\nwith\\nthe\\nAdvisor .\\nAdvisor\\nspecifically\\nundertakes\\nnot\\nto\\nuse\\nany\\nproprietary \\nand/or\\nconfidential\\ninformation\\nbelonging\\nto\\nthe\\nAdvisor\\nand/or\\nany\\nthird\\nparty\\nwhile\\nperforming\\nthe\\nServices\\nand\\nin\\ncase\\nany\\nAdvisor \\nproprietary\\nor\\nconfidential\\ninformation\\nis\\nused,\\nsuch\\ninformation\\nwill\\nbe\\nautomatically\\nassigned\\nto\\nthe\\nCompany\\nand\\nbecome\\nits\\nfull\\nand \\nexclusive\\nproperty .\\n8.\\nJurisdiction:\\nThis\\nUndertaking\\nshall\\nbe\\ngoverned\\nby\\nand\\nconstrued\\nin\\naccordance\\nwith\\nthe\\nlaws\\nof\\nthe\\nState\\nof\\nIsrael,\\nwithout\\ngiving\\neffect \\nto\\nits\\nlaws\\npertaining\\nto\\nconflict\\nof\\nlaws. \\nThe\\nAdvisor\\nagrees\\nthat\\nany\\nand\\nall\\ndisputes\\nin\\nconnection\\nwith\\nthis\\nUndertaking\\nshall\\nbe \\nsubmitted\\nto\\nthe\\nexclusive\\njurisdiction\\nof\\nthe\\ncompetent\\ncourts\\nin\\nthe\\ncity\\nof\\nTel\\nAviv-Y afo,\\nIsrael.\\n9.\\nPre-Undertaking:\\nIn\\ncase\\nthe\\nAdvisor\\nhas\\nbeen\\nproviding\\nServices\\nto\\nthe\\nCompany\\nbefore\\nthe\\nEffective\\nDate\\n(“Pre-Undertaking\\nPeriod”), \\nthis\\nUndertaking\\nshall\\nalso\\napply\\nto\\nthe\\nPre-Undertaking\\nPeriod,\\nincluding,\\nif\\nrelevant,\\nbefore\\nCompany’ s\\nincorporation.\\nThe\\nCompany\\nmay \\nassign\\nthis\\nundertaking\\nto\\nthird\\nparties.\\nIN\\nWITNESS\\nWHEREOF\\n,\\nthe\\nundersigned\\nhas\\nexecuted\\nthis\\nUndertaking\\nas\\nof\\nthe\\nEffective\\nDate.\\nAdvisor\\nBy:\\n_____________________________________\\nName:\\nJack\\nRobinson', metadata={'source': './data/Robinson Advisory.docx.pdf', 'page': 3}),\n",
       " Document(page_content='promptly\\ncooperate\\nwith\\nthe\\nCompany\\nin\\nseeking\\na\\nprotective\\norder .\\n3.\\nSafeguard:\\nThe\\nAdvisor\\nshall\\nsafeguard\\nthe\\nConfidential\\nInformation,\\nkeep\\nit\\nin\\nstrict\\nconfidence\\nand\\nshall\\nnot\\ndisclose\\nit\\nto\\nany\\nthird\\nparty \\nwithout\\nthe\\nprior\\nwritten\\nconsent\\nof\\nthe\\nCompany .\\n4.\\nIP:\\nAny\\nWork\\nProduct,\\nupon\\ncreation,\\nshall\\nbe\\nfully\\nand\\nexclusively\\nowned\\nby\\nthe\\nCompany .\\nThe\\nAdvisor ,\\nimmediately\\nupon\\nCompany’ s \\nrequest,\\nshall\\nsign\\nany\\ndocument\\nand/or\\nperform\\nany\\naction\\nneeded\\nto\\nformalize\\nsuch\\nownership.\\nThe\\nAdvisor\\nshall\\nnot\\nobtain\\nany\\nrights\\nin \\nthe\\nWork\\nProduct,\\nincluding\\nmoral\\nrights\\nand/or\\nrights\\nfor\\nroyalties\\nor\\nother\\nconsideration\\nunder\\nany\\napplicable\\nlaw\\n(including\\nSection\\n134 \\nof\\nthe\\nIsraeli\\nPatent\\nLaw\\n–\\n1967\\nif\\napplicable),\\nand\\nshall\\nnot\\nbe\\nentitled\\nto\\nany\\ncompensation\\nwith\\nrespect\\nto\\nthe\\nServices,\\nwhich\\nwas\\nnot \\nspecifically\\nagreed,\\nin\\nwriting,\\nbetween\\nthe\\nAdvisor\\nand\\nthe\\nCompany .\\n5.\\nNon-Compete\\n:\\nDuring\\nthe\\nterm\\nof\\nengagement\\nwith\\nthe\\nCompany\\nand\\nfor\\na\\nperiod\\nof\\n12\\nmonths\\nthereafter ,\\nAdvisor\\nshall\\nnot\\nbe\\ninvolved, \\nas\\nan\\nemployee,\\nowner ,\\ncontractor\\nor\\notherwise,\\nin\\nany\\nbusiness,\\nwhich\\ncompetes\\nwith\\nthe\\nCompany’ s\\nBusiness,\\nand\\nshall\\nnot\\nsolicit\\nand/or \\nhire\\nany\\nemployee\\nand/or\\nservice\\nprovider\\nof\\nthe\\nCompany ,\\nwithout\\nthe\\nprior\\nwritten\\nconsent\\nof\\nthe\\nCompany .\\n6.\\nPersonnel:\\nThe\\nAdvisor\\nmay\\nprovide\\nthe\\nServices\\nonly\\ndirectly\\nor\\nthrough\\nemployees,\\ncontractors\\nor\\nagents\\n(“Personnel”),\\nwhich\\nwere \\nspecifically\\napproved\\nby\\nthe\\nCompany ,\\nand\\nhave\\ncommitted\\nin\\nwriting\\nto\\nconfidentiality\\nand\\nownership\\nrights\\ntowards\\nthe\\nAdvisor\\nand/or \\nthe\\nCompany ,\\nin\\na\\nform\\nrestrictive\\nenough\\nto\\nallow\\nAdvisor\\nto\\ncomply\\nand\\nenforce\\nthe\\ncommitments\\nunder\\nthis\\nundertaking\\n(“Authorized \\nPersonnel”).\\nWithout\\nlimiting\\nthe\\nforegoing,\\nthe\\nAdvisor\\nis\\nliable\\nhereunder\\nfor\\nany\\nbreach\\nof\\nthis\\nundertaking\\nby\\nany\\nAdvisor\\nPersonnel.\\n7.\\nThird\\nParties:\\nThe\\nAdvisor\\nrepresents\\nthat\\nthe\\nperformance\\nof\\nthe\\nServices\\nand\\nthe\\nterms\\nof\\nthis\\nUndertaking,\\ndo\\nnot\\nand\\nwill\\nnot\\nbreach \\nany\\nright,\\ncontractual\\nor', metadata={'source': './data/Robinson Advisory.docx.pdf', 'page': 3})]"
      ]
     },
     "execution_count": 24,
     "metadata": {},
     "output_type": "execute_result"
    }
   ],
   "source": [
    "retrieved_docs = retriever.get_relevant_documents(\"In which street does the Advisor live?\")\n",
    "retrieved_docs"
   ]
  },
  {
   "cell_type": "code",
   "execution_count": 25,
   "metadata": {},
   "outputs": [
    {
     "data": {
      "text/markdown": [
       "ADVISOR Y\n",
       "SER VICES\n",
       "AGREEMENT\n",
       "This\n",
       "Advisory\n",
       "Services\n",
       "Agreement\n",
       "is\n",
       "entered\n",
       "into\n",
       "as\n",
       "of\n",
       "June\n",
       "15\n",
       "th\n",
       ",\n",
       "2023\n",
       "(the\n",
       "“\n",
       "Effective\n",
       "Date\n",
       "”),\n",
       "by\n",
       "and \n",
       "between\n",
       "Cloud\n",
       "Investments\n",
       "Ltd.,\n",
       "ID\n",
       "51-426526-3,\n",
       "an\n",
       "Israeli\n",
       "company\n",
       "(the\n",
       "\"\n",
       "Company\n",
       "\"),\n",
       "and\n",
       "Mr.\n",
       "Jack \n",
       "Robinson,\n",
       "Passport\n",
       "Number\n",
       "780055578,\n",
       "residing\n",
       "at\n",
       "1\n",
       "Rabin\n",
       "st,\n",
       "Tel\n",
       "Aviv,\n",
       "Israel,\n",
       "Email: \n",
       "jackrobinson@gmail.com\n",
       "(\"\n",
       "Advisor\n",
       "\").\n",
       "Whereas,\n",
       "Advisor\n",
       "has\n",
       "expertise\n",
       "and/or\n",
       "knowledge\n",
       "and/or\n",
       "relationships,\n",
       "which\n",
       "are\n",
       "relevant\n",
       "to\n",
       "the \n",
       "Company’ s\n",
       "business\n",
       "and\n",
       "the\n",
       "Company\n",
       "has\n",
       "asked\n",
       "Advisor\n",
       "to\n",
       "provide\n",
       "it\n",
       "with\n",
       "certain\n",
       "Advisory \n",
       "services,\n",
       "as\n",
       "described\n",
       "in\n",
       "this\n",
       "Agreement;\n",
       "and\n",
       "Whereas,\n",
       "Advisor\n",
       "has\n",
       "agreed\n",
       "to\n",
       "provide\n",
       "the\n",
       "Company\n",
       "with\n",
       "such\n",
       "services,\n",
       "subject\n",
       "to\n",
       "the\n",
       "terms\n",
       "set\n",
       "forth \n",
       "in\n",
       "this\n",
       "Agreement.\n",
       "NOW\n",
       "THEREFORE\n",
       "THE\n",
       "PARTIES\n",
       "AGREE\n",
       "AS\n",
       "FOLLOWS:\n",
       "1.\n",
       "Services:\n",
       "1.1\n",
       "Advisor\n",
       "shall\n",
       "provide\n",
       "to\n",
       "the\n",
       "Company ,\n",
       "as\n",
       "an\n",
       "independent\n",
       "contractor ,\n",
       "software\n",
       "development \n",
       "services,\n",
       "and\n",
       "/\n",
       "or\n",
       "any\n",
       "other\n",
       "services\n",
       "as\n",
       "agreed\n",
       "by\n",
       "the\n",
       "parties\n",
       "from\n",
       "time\n",
       "to\n",
       "time\n",
       "(the\n",
       "“\n",
       "Services\n",
       "”). \n",
       "Advisor\n",
       "shall\n",
       "not\n",
       "appoint\n",
       "any\n",
       "sub-agents\n",
       "or\n",
       "delegates\n",
       "in\n",
       "connection\n",
       "with\n",
       "performance\n",
       "of\n",
       "the \n",
       "Services,\n",
       "nor\n",
       "assign\n",
       "any\n",
       "of\n",
       "his\n",
       "obligations\n",
       "or\n",
       "rights\n",
       "hereunder\n",
       "without\n",
       "obtaining\n",
       "the\n",
       "prior\n",
       "written \n",
       "consent\n",
       "of\n",
       "the\n",
       "Company .\n",
       "Without\n",
       "derogating\n",
       "from\n",
       "the\n",
       "foregoing,\n",
       "the\n",
       "Advisor\n",
       "shall\n",
       "not\n",
       "be\n",
       "required\n",
       "to\n",
       "provide\n",
       "the\n",
       "Services \n",
       "for\n",
       "a\n",
       "period\n",
       "of\n",
       "eighteen\n",
       "(18)\n",
       "days\n",
       "in\n",
       "each\n",
       "12-month\n",
       "period.\n",
       "1.2\n",
       "In\n",
       "performing\n",
       "the\n",
       "Services,\n",
       "Advisor\n",
       "shall\n",
       "devote\n",
       "his\n",
       "time,\n",
       "know-how ,\n",
       "expertise,\n",
       "talent, \n",
       "experience\n",
       "and\n",
       "best\n",
       "efforts\n",
       "and\n",
       "attention\n",
       "to\n",
       "the\n",
       "provision\n",
       "of\n",
       "the\n",
       "Services,\n",
       "as\n",
       "shall\n",
       "be\n",
       "reasonably \n",
       "required\n",
       "by\n",
       "the\n",
       "Company .\n",
       "Advisor\n",
       "shall\n",
       "render\n",
       "the\n",
       "Services\n",
       "in\n",
       "a\n",
       "diligent\n",
       "manner\n",
       "and\n",
       "at\n",
       "a\n",
       "high \n",
       "professional\n",
       "standard\n",
       "for\n",
       "the\n",
       "benefit\n",
       "of\n",
       "the\n",
       "Company\n",
       "and\n",
       "shall\n",
       "perform\n",
       "and\n",
       "dischar ge\n",
       "well\n",
       "and \n",
       "faithfully ,\n",
       "with\n",
       "devotion,\n",
       "honesty\n",
       "and\n",
       "fidelity ,\n",
       "his\n",
       "obligations\n",
       "hereunder .\n",
       "1.3\n",
       "Advisor\n",
       "further\n",
       "agrees\n",
       "and\n",
       "undertakes\n",
       "to\n",
       "(i)\n",
       "comply\n",
       "with\n",
       "all\n",
       "the\n",
       "Company's\n",
       "policies,\n",
       "procedures \n",
       "and\n",
       "objectives,\n",
       "as\n",
       "in\n",
       "effect\n",
       "from\n",
       "time\n",
       "to\n",
       "time;\n",
       "(ii)\n",
       "adhere\n",
       "to\n",
       "any\n",
       "applicable\n",
       "law\n",
       "or"
      ],
      "text/plain": [
       "<IPython.core.display.Markdown object>"
      ]
     },
     "metadata": {},
     "output_type": "display_data"
    }
   ],
   "source": [
    "display(Markdown(f\"{retrieved_docs[0].page_content}\"))"
   ]
  },
  {
   "cell_type": "code",
   "execution_count": 26,
   "metadata": {},
   "outputs": [
    {
     "data": {
      "text/plain": [
       "2000"
      ]
     },
     "execution_count": 26,
     "metadata": {},
     "output_type": "execute_result"
    }
   ],
   "source": [
    "len(retrieved_docs[0].page_content)"
   ]
  },
  {
   "cell_type": "code",
   "execution_count": null,
   "metadata": {},
   "outputs": [],
   "source": []
  },
  {
   "cell_type": "code",
   "execution_count": 27,
   "metadata": {},
   "outputs": [],
   "source": [
    "from IPython.display import display, Markdown\n",
    "from dotenv import load_dotenv, find_dotenv\n",
    "from langchain.retrievers import ParentDocumentRetriever\n",
    "from langchain.storage import InMemoryStore\n",
    "from langchain.text_splitter import RecursiveCharacterTextSplitter\n",
    "from langchain_community.document_loaders import TextLoader\n",
    "import chromadb\n",
    "from langchain_community.vectorstores import Chroma\n",
    "from chromadb.utils.embedding_functions import SentenceTransformerEmbeddingFunction\n",
    "from langchain_community.embeddings import SentenceTransformerEmbeddings\n",
    "\n",
    "\n",
    "class AdvancedRetriever:\n",
    "    def __init__(self):\n",
    "        load_dotenv(find_dotenv())\n",
    "\n",
    "    \n",
    "    def parent_documents_retriever(self, loaded_docs):\n",
    "        # This text splitter is used to create the parent documents\n",
    "        parent_splitter = RecursiveCharacterTextSplitter(chunk_size=2000)\n",
    "        # This text splitter is used to create the child documents\n",
    "        # It should create documents smaller than the parent\n",
    "        child_splitter = RecursiveCharacterTextSplitter(chunk_size=400)\n",
    "        # The vectorstore to use to index the child chunks\n",
    "        vectorstore = Chroma(\n",
    "            collection_name=\"split_parents\", embedding_function=SentenceTransformerEmbeddings()\n",
    "        )\n",
    "        # The storage layer for the parent documents\n",
    "        store = InMemoryStore()\n",
    "\n",
    "        retriever = ParentDocumentRetriever(\n",
    "            vectorstore=vectorstore,\n",
    "            docstore=store,\n",
    "            child_splitter=child_splitter,\n",
    "            parent_splitter=parent_splitter,\n",
    "        )\n",
    "\n",
    "        retriever.add_documents(loaded_docs)\n",
    "\n",
    "        return vectorstore, retriever\n",
    "    \n",
    "  "
   ]
  },
  {
   "cell_type": "code",
   "execution_count": 28,
   "metadata": {},
   "outputs": [],
   "source": [
    "# from utils.Advanced_Retriever import AdvancedRetriever\n",
    "\n",
    "advanced_retriver = AdvancedRetriever()\n",
    "vectorstore1, retriever1 = advanced_retriver.parent_documents_retriever(docs_test)"
   ]
  },
  {
   "cell_type": "code",
   "execution_count": 29,
   "metadata": {},
   "outputs": [
    {
     "data": {
      "text/plain": [
       "'(the\\n\"\\nCompany\\n\"),\\nand\\nMr.\\nJack \\nRobinson,\\nPassport\\nNumber\\n780055578,\\nresiding\\nat\\n1\\nRabin\\nst,\\nTel\\nAviv,\\nIsrael,\\nEmail: \\njackrobinson@gmail.com\\n(\"\\nAdvisor\\n\").\\nWhereas,\\nAdvisor\\nhas\\nexpertise\\nand/or\\nknowledge\\nand/or\\nrelationships,\\nwhich\\nare\\nrelevant\\nto\\nthe \\nCompany’ s\\nbusiness\\nand\\nthe\\nCompany\\nhas\\nasked\\nAdvisor\\nto\\nprovide\\nit\\nwith\\ncertain\\nAdvisory \\nservices,\\nas\\ndescribed\\nin\\nthis\\nAgreement;\\nand'"
      ]
     },
     "execution_count": 29,
     "metadata": {},
     "output_type": "execute_result"
    }
   ],
   "source": [
    "vectorstore1.similarity_search(\"In which street does the Advisor live?\")[0].page_content"
   ]
  },
  {
   "cell_type": "code",
   "execution_count": 30,
   "metadata": {},
   "outputs": [
    {
     "data": {
      "text/plain": [
       "[Document(page_content='ADVISOR Y\\nSER VICES\\nAGREEMENT\\nThis\\nAdvisory\\nServices\\nAgreement\\nis\\nentered\\ninto\\nas\\nof\\nJune\\n15\\nth\\n,\\n2023\\n(the\\n“\\nEffective\\nDate\\n”),\\nby\\nand \\nbetween\\nCloud\\nInvestments\\nLtd.,\\nID\\n51-426526-3,\\nan\\nIsraeli\\ncompany\\n(the\\n\"\\nCompany\\n\"),\\nand\\nMr.\\nJack \\nRobinson,\\nPassport\\nNumber\\n780055578,\\nresiding\\nat\\n1\\nRabin\\nst,\\nTel\\nAviv,\\nIsrael,\\nEmail: \\njackrobinson@gmail.com\\n(\"\\nAdvisor\\n\").\\nWhereas,\\nAdvisor\\nhas\\nexpertise\\nand/or\\nknowledge\\nand/or\\nrelationships,\\nwhich\\nare\\nrelevant\\nto\\nthe \\nCompany’ s\\nbusiness\\nand\\nthe\\nCompany\\nhas\\nasked\\nAdvisor\\nto\\nprovide\\nit\\nwith\\ncertain\\nAdvisory \\nservices,\\nas\\ndescribed\\nin\\nthis\\nAgreement;\\nand\\nWhereas,\\nAdvisor\\nhas\\nagreed\\nto\\nprovide\\nthe\\nCompany\\nwith\\nsuch\\nservices,\\nsubject\\nto\\nthe\\nterms\\nset\\nforth \\nin\\nthis\\nAgreement.\\nNOW\\nTHEREFORE\\nTHE\\nPARTIES\\nAGREE\\nAS\\nFOLLOWS:\\n1.\\nServices:\\n1.1\\nAdvisor\\nshall\\nprovide\\nto\\nthe\\nCompany ,\\nas\\nan\\nindependent\\ncontractor ,\\nsoftware\\ndevelopment \\nservices,\\nand\\n/\\nor\\nany\\nother\\nservices\\nas\\nagreed\\nby\\nthe\\nparties\\nfrom\\ntime\\nto\\ntime\\n(the\\n“\\nServices\\n”). \\nAdvisor\\nshall\\nnot\\nappoint\\nany\\nsub-agents\\nor\\ndelegates\\nin\\nconnection\\nwith\\nperformance\\nof\\nthe \\nServices,\\nnor\\nassign\\nany\\nof\\nhis\\nobligations\\nor\\nrights\\nhereunder\\nwithout\\nobtaining\\nthe\\nprior\\nwritten \\nconsent\\nof\\nthe\\nCompany .\\nWithout\\nderogating\\nfrom\\nthe\\nforegoing,\\nthe\\nAdvisor\\nshall\\nnot\\nbe\\nrequired\\nto\\nprovide\\nthe\\nServices \\nfor\\na\\nperiod\\nof\\neighteen\\n(18)\\ndays\\nin\\neach\\n12-month\\nperiod.\\n1.2\\nIn\\nperforming\\nthe\\nServices,\\nAdvisor\\nshall\\ndevote\\nhis\\ntime,\\nknow-how ,\\nexpertise,\\ntalent, \\nexperience\\nand\\nbest\\nefforts\\nand\\nattention\\nto\\nthe\\nprovision\\nof\\nthe\\nServices,\\nas\\nshall\\nbe\\nreasonably \\nrequired\\nby\\nthe\\nCompany .\\nAdvisor\\nshall\\nrender\\nthe\\nServices\\nin\\na\\ndiligent\\nmanner\\nand\\nat\\na\\nhigh \\nprofessional\\nstandard\\nfor\\nthe\\nbenefit\\nof\\nthe\\nCompany\\nand\\nshall\\nperform\\nand\\ndischar ge\\nwell\\nand \\nfaithfully ,\\nwith\\ndevotion,\\nhonesty\\nand\\nfidelity ,\\nhis\\nobligations\\nhereunder .\\n1.3\\nAdvisor\\nfurther\\nagrees\\nand\\nundertakes\\nto\\n(i)\\ncomply\\nwith\\nall\\nthe\\nCompany\\'s\\npolicies,\\nprocedures \\nand\\nobjectives,\\nas\\nin\\neffect\\nfrom\\ntime\\nto\\ntime;\\n(ii)\\nadhere\\nto\\nany\\napplicable\\nlaw\\nor', metadata={'source': './data/Robinson Advisory.docx.pdf', 'page': 0}),\n",
       " Document(page_content='by\\nany\\nAdvisor\\nPersonnel.\\n7.\\nThird\\nParties:\\nThe\\nAdvisor\\nrepresents\\nthat\\nthe\\nperformance\\nof\\nthe\\nServices\\nand\\nthe\\nterms\\nof\\nthis\\nUndertaking,\\ndo\\nnot\\nand\\nwill\\nnot\\nbreach \\nany\\nright,\\ncontractual\\nor\\nother ,\\nof\\nany\\nemployer ,\\ncustomer\\nor\\nother\\nthird\\nparty .\\nAdvisor\\nacknowledges\\nthat\\nthe\\nCompany\\nis\\nrelying\\nupon\\nthe \\ntruthfulness\\nand\\naccuracy\\nof\\nsuch\\nrepresentations\\nin\\nengaging\\nwith\\nthe\\nAdvisor .\\nAdvisor\\nspecifically\\nundertakes\\nnot\\nto\\nuse\\nany\\nproprietary \\nand/or\\nconfidential\\ninformation\\nbelonging\\nto\\nthe\\nAdvisor\\nand/or\\nany\\nthird\\nparty\\nwhile\\nperforming\\nthe\\nServices\\nand\\nin\\ncase\\nany\\nAdvisor \\nproprietary\\nor\\nconfidential\\ninformation\\nis\\nused,\\nsuch\\ninformation\\nwill\\nbe\\nautomatically\\nassigned\\nto\\nthe\\nCompany\\nand\\nbecome\\nits\\nfull\\nand \\nexclusive\\nproperty .\\n8.\\nJurisdiction:\\nThis\\nUndertaking\\nshall\\nbe\\ngoverned\\nby\\nand\\nconstrued\\nin\\naccordance\\nwith\\nthe\\nlaws\\nof\\nthe\\nState\\nof\\nIsrael,\\nwithout\\ngiving\\neffect \\nto\\nits\\nlaws\\npertaining\\nto\\nconflict\\nof\\nlaws. \\nThe\\nAdvisor\\nagrees\\nthat\\nany\\nand\\nall\\ndisputes\\nin\\nconnection\\nwith\\nthis\\nUndertaking\\nshall\\nbe \\nsubmitted\\nto\\nthe\\nexclusive\\njurisdiction\\nof\\nthe\\ncompetent\\ncourts\\nin\\nthe\\ncity\\nof\\nTel\\nAviv-Y afo,\\nIsrael.\\n9.\\nPre-Undertaking:\\nIn\\ncase\\nthe\\nAdvisor\\nhas\\nbeen\\nproviding\\nServices\\nto\\nthe\\nCompany\\nbefore\\nthe\\nEffective\\nDate\\n(“Pre-Undertaking\\nPeriod”), \\nthis\\nUndertaking\\nshall\\nalso\\napply\\nto\\nthe\\nPre-Undertaking\\nPeriod,\\nincluding,\\nif\\nrelevant,\\nbefore\\nCompany’ s\\nincorporation.\\nThe\\nCompany\\nmay \\nassign\\nthis\\nundertaking\\nto\\nthird\\nparties.\\nIN\\nWITNESS\\nWHEREOF\\n,\\nthe\\nundersigned\\nhas\\nexecuted\\nthis\\nUndertaking\\nas\\nof\\nthe\\nEffective\\nDate.\\nAdvisor\\nBy:\\n_____________________________________\\nName:\\nJack\\nRobinson', metadata={'source': './data/Robinson Advisory.docx.pdf', 'page': 3})]"
      ]
     },
     "execution_count": 30,
     "metadata": {},
     "output_type": "execute_result"
    }
   ],
   "source": [
    "retriever1.get_relevant_documents(\"In which street does the Advisor live?\")"
   ]
  },
  {
   "cell_type": "markdown",
   "metadata": {},
   "source": [
    "# Rag Pipeline"
   ]
  },
  {
   "cell_type": "code",
   "execution_count": 31,
   "metadata": {},
   "outputs": [],
   "source": [
    "from langchain import OpenAI, VectorDBQA\n",
    "from langchain.chat_models import ChatOpenAI\n",
    "from langchain.memory import ConversationBufferMemory\n",
    "from langchain.chains import ConversationChain\n",
    "from langchain.chains import ConversationalRetrievalChain\n",
    "from langchain.chains import RetrievalQA\n",
    "from langchain_community.llms import OpenAI"
   ]
  },
  {
   "cell_type": "code",
   "execution_count": 32,
   "metadata": {},
   "outputs": [],
   "source": [
    "def conversation_chain(vectorstore):\n",
    "    llm = ChatOpenAI(temperature=0.0)\n",
    "    memory = ConversationBufferMemory(memory_key=\"chat_history\", return_messages=True)\n",
    "    conversation_chain= ConversationalRetrievalChain.from_llm(\n",
    "        llm = llm,\n",
    "        memory = memory,\n",
    "        retriever = vectorstore.as_retriever(),\n",
    "        )\n",
    "    return conversation_chain"
   ]
  },
  {
   "cell_type": "code",
   "execution_count": 36,
   "metadata": {},
   "outputs": [
    {
     "data": {
      "text/plain": [
       "True"
      ]
     },
     "execution_count": 36,
     "metadata": {},
     "output_type": "execute_result"
    }
   ],
   "source": [
    "import os\n",
    "load_dotenv(find_dotenv())\n"
   ]
  },
  {
   "cell_type": "code",
   "execution_count": 34,
   "metadata": {},
   "outputs": [
    {
     "name": "stderr",
     "output_type": "stream",
     "text": [
      "/home/crs/10Academy/w11/Contract-Advisor-RAG/w11_rag/lib/python3.10/site-packages/langchain_core/_api/deprecation.py:117: LangChainDeprecationWarning: The class `langchain_community.chat_models.openai.ChatOpenAI` was deprecated in langchain-community 0.0.10 and will be removed in 0.2.0. An updated version of the class exists in the langchain-openai package and should be used instead. To use it run `pip install -U langchain-openai` and import as `from langchain_openai import ChatOpenAI`.\n",
      "  warn_deprecated(\n"
     ]
    },
    {
     "data": {
      "text/plain": [
       "{'question': 'In which street does the Advisor live?',\n",
       " 'chat_history': [HumanMessage(content='In which street does the Advisor live?'),\n",
       "  AIMessage(content='The Advisor lives at 1 Rabin Street, Tel Aviv, Israel.')],\n",
       " 'answer': 'The Advisor lives at 1 Rabin Street, Tel Aviv, Israel.'}"
      ]
     },
     "execution_count": 34,
     "metadata": {},
     "output_type": "execute_result"
    }
   ],
   "source": [
    "rag_chain = conversation_chain(vectorstore1)\n",
    "rag_chain.invoke(\"In which street does the Advisor live?\")"
   ]
  },
  {
   "cell_type": "code",
   "execution_count": null,
   "metadata": {},
   "outputs": [],
   "source": []
  },
  {
   "cell_type": "code",
   "execution_count": 37,
   "metadata": {},
   "outputs": [],
   "source": [
    "def conversation_chain_1(retriever):\n",
    "    llm = ChatOpenAI(temperature=0.0)\n",
    "    memory = ConversationBufferMemory(memory_key=\"chat_history\", return_messages=True)\n",
    "    conversation_chain= ConversationalRetrievalChain.from_llm(\n",
    "        llm = llm,\n",
    "        memory = memory,\n",
    "        retriever = retriever,\n",
    "        )\n",
    "    return conversation_chain"
   ]
  },
  {
   "cell_type": "code",
   "execution_count": 38,
   "metadata": {},
   "outputs": [
    {
     "data": {
      "text/plain": [
       "{'question': 'In which street does the Advisor live?',\n",
       " 'chat_history': [HumanMessage(content='In which street does the Advisor live?'),\n",
       "  AIMessage(content='The Advisor, Jack Robinson, lives at 1 Rabin St, Tel Aviv, Israel.')],\n",
       " 'answer': 'The Advisor, Jack Robinson, lives at 1 Rabin St, Tel Aviv, Israel.'}"
      ]
     },
     "execution_count": 38,
     "metadata": {},
     "output_type": "execute_result"
    }
   ],
   "source": [
    "rag_chain_1 = conversation_chain_1(retriever1)\n",
    "rag_chain_1.invoke(\"In which street does the Advisor live?\")"
   ]
  },
  {
   "cell_type": "code",
   "execution_count": 35,
   "metadata": {},
   "outputs": [],
   "source": [
    "# def qNa_chain(vectorsotre):\n",
    "#     llm = ChatOpenAI(temperature=0.0)\n",
    "#     qa_stuff = RetrievalQA.from_chain_type(\n",
    "#         llm = llm,\n",
    "#         chain_type = \"stuff\",\n",
    "#         retriever = vectorsotre.as_retriever(),\n",
    "#         verbose = False,\n",
    "#     )\n",
    "#     return qa_stuff"
   ]
  }
 ],
 "metadata": {
  "kernelspec": {
   "display_name": "w11_rag",
   "language": "python",
   "name": "python3"
  },
  "language_info": {
   "codemirror_mode": {
    "name": "ipython",
    "version": 3
   },
   "file_extension": ".py",
   "mimetype": "text/x-python",
   "name": "python",
   "nbconvert_exporter": "python",
   "pygments_lexer": "ipython3",
   "version": "3.10.13"
  }
 },
 "nbformat": 4,
 "nbformat_minor": 2
}
