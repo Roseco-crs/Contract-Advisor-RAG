{
 "cells": [
  {
   "cell_type": "markdown",
   "metadata": {},
   "source": [
    "# Advanced RAG"
   ]
  },
  {
   "cell_type": "markdown",
   "metadata": {},
   "source": [
    "#### Reading API KEYs from .env file"
   ]
  },
  {
   "cell_type": "code",
   "execution_count": 3,
   "metadata": {},
   "outputs": [],
   "source": [
    "from dotenv import load_dotenv, find_dotenv\n",
    "import os\n",
    "\n",
    "_ = load_dotenv(find_dotenv())   \n",
    "os.environ[\"OPENAI_API_KEY\"] = os.getenv(\"OPENAI_API_KEY\")  "
   ]
  },
  {
   "cell_type": "markdown",
   "metadata": {},
   "source": [
    "#### 1. Data Reading or Loading"
   ]
  },
  {
   "cell_type": "code",
   "execution_count": 4,
   "metadata": {},
   "outputs": [],
   "source": [
    "# from langchain_community.document_loaders import PyPDFLoader\n",
    "\n",
    "# loader1 = PyPDFLoader(\"./data/Raptor Contract.docx.pdf\")\n",
    "# loader2 = PyPDFLoader(\"./data/Robinson Advisory.docx.pdf\")\n",
    "\n",
    "# loaders = [loader1, loader2]\n",
    "# documents = []\n",
    "# for loader in loaders:\n",
    "#     documents.extend(loader.load())"
   ]
  },
  {
   "cell_type": "code",
   "execution_count": 5,
   "metadata": {},
   "outputs": [],
   "source": [
    "from IPython.display import display, Markdown\n",
    "from pypdf import PdfReader\n",
    "\n",
    "reader = PdfReader(\"./data/Raptor Contract.docx.pdf\")\n",
    "pdf_texts = [p.extract_text().strip() for p in reader.pages]\n",
    "\n",
    "# Filter the empty strings\n",
    "pdf_texts = [text for text in pdf_texts if text]\n",
    "\n",
    "print(pdf_texts[0])"
   ]
  },
  {
   "cell_type": "code",
   "execution_count": null,
   "metadata": {},
   "outputs": [
    {
     "data": {
      "text/plain": [
       "(list, str)"
      ]
     },
     "execution_count": 8,
     "metadata": {},
     "output_type": "execute_result"
    }
   ],
   "source": [
    "type(pdf_texts), type(pdf_texts[0]), "
   ]
  },
  {
   "cell_type": "markdown",
   "metadata": {},
   "source": [
    "#### 2. Chunk the loaded data into Documents"
   ]
  },
  {
   "cell_type": "code",
   "execution_count": null,
   "metadata": {},
   "outputs": [],
   "source": [
    "# from langchain.text_splitter import RecursiveCharacterTextSplitter, SentenceTransformersTokenTextSplitter\n",
    "\n",
    "# character_splitter = RecursiveCharacterTextSplitter(\n",
    "#     separators=[\"\\n\\n\", \"\\n\", \". \", \" \", \"\"],\n",
    "#     chunk_size=1000,\n",
    "#     chunk_overlap=0\n",
    "# )\n",
    "# character_split_docs = character_splitter.split_documents(documents)\n",
    "\n",
    "# #print(f\"{len(character_split_texts[10])} characters in 11th character_split_texts,\\n\\n{character_split_texts[10]}\")\n",
    "# print(f\"\\nTotal chunks : {len(character_split_docs)}\")"
   ]
  },
  {
   "cell_type": "code",
   "execution_count": null,
   "metadata": {},
   "outputs": [
    {
     "name": "stdout",
     "output_type": "stream",
     "text": [
      "995 characters in 11th character_split_texts,\n",
      "\n",
      "assessment,\n",
      "hearing,\n",
      "complaint,\n",
      "charge, \n",
      "demand\n",
      "or\n",
      "other\n",
      "legal\n",
      "proceeding\n",
      "(whether\n",
      "sounding\n",
      "in\n",
      "contract,\n",
      "tort\n",
      "or\n",
      "otherwise,\n",
      "whether\n",
      "civil \n",
      "or\n",
      "criminal\n",
      "and\n",
      "whether\n",
      "brought\n",
      "at\n",
      "law\n",
      "or\n",
      "in\n",
      "equity)\n",
      "that\n",
      "is\n",
      "commenced,\n",
      "brought,\n",
      "conducted, \n",
      "tried\n",
      "or\n",
      "heard\n",
      "by\n",
      "or\n",
      "before,\n",
      "or\n",
      "otherwise\n",
      "involving,\n",
      "any\n",
      "Governmental\n",
      "Authority .\n",
      "“\n",
      "Affiliate\n",
      "”\n",
      "means,\n",
      "with\n",
      "respect\n",
      "to\n",
      "any\n",
      "specified\n",
      "Person,\n",
      "any\n",
      "other\n",
      "Person\n",
      "directly\n",
      "or \n",
      "indirectly\n",
      "controlling,\n",
      "controlled\n",
      "by,\n",
      "or\n",
      "under\n",
      "direct\n",
      "or\n",
      "indirect\n",
      "common\n",
      "control\n",
      "with\n",
      "such \n",
      "specified\n",
      "Person.\n",
      "For\n",
      "purposes\n",
      "of\n",
      "the\n",
      "foregoing,\n",
      "a\n",
      "Person\n",
      "shall\n",
      "be\n",
      "deemed\n",
      "to\n",
      "control\n",
      "a\n",
      "specified \n",
      "Person\n",
      "if\n",
      "such\n",
      "Person\n",
      "(or\n",
      "a\n",
      "Family\n",
      "Member\n",
      "of\n",
      "such\n",
      "Person)\n",
      "possesses,\n",
      "directly\n",
      "or\n",
      "indirectly ,\n",
      "the \n",
      "power\n",
      "to\n",
      "direct\n",
      "or\n",
      "cause\n",
      "the\n",
      "direction\n",
      "of\n",
      "the\n",
      "management\n",
      "and\n",
      "policies\n",
      "of\n",
      "such\n",
      "specified\n",
      "Person.\n",
      "“\n",
      "Ancillary\n",
      "Agreements\n",
      "”\n",
      "means\n",
      "the\n",
      "Escrow\n",
      "Agreement,\n",
      "the\n",
      "Option\n",
      "Cancellation \n",
      "Acknowledgments,\n",
      "and\n",
      "[and\n",
      "the\n",
      "Employment\n",
      "Agreements].\n",
      "“\n",
      "Anti-Corruption\n",
      "Laws\n",
      "”\n",
      "means\n",
      "any\n",
      "applicable\n",
      "laws,\n",
      "regulations,\n",
      "or\n",
      "orders\n",
      "\n",
      "Total chunks: 258\n"
     ]
    }
   ],
   "source": [
    "from langchain.text_splitter import RecursiveCharacterTextSplitter, SentenceTransformersTokenTextSplitter\n",
    "\n",
    "character_splitter = RecursiveCharacterTextSplitter(\n",
    "    separators=[\"\\n\\n\", \"\\n\", \". \", \" \", \"\"],\n",
    "    chunk_size=1000,\n",
    "    chunk_overlap=0\n",
    ")\n",
    "character_split_texts = character_splitter.split_text('\\n\\n'.join(pdf_texts))\n",
    "\n",
    "print(f\"{len(character_split_texts[10])} characters in 11th character_split_texts,\\n\\n{character_split_texts[10]}\")\n",
    "print(f\"\\nTotal chunks: {len(character_split_texts)}\")"
   ]
  },
  {
   "cell_type": "markdown",
   "metadata": {},
   "source": [
    "SentenceTransformer embedding use limited characters context windows. In fact, it is 256. \n",
    "Then, chunk the character_split_texts into Token_split_texts. This would be a group of 256 or less."
   ]
  },
  {
   "cell_type": "code",
   "execution_count": null,
   "metadata": {},
   "outputs": [
    {
     "name": "stderr",
     "output_type": "stream",
     "text": [
      "/home/crs/10Academy/w11/Contract-Advisor-RAG/w11_rag/lib/python3.10/site-packages/tqdm/auto.py:21: TqdmWarning: IProgress not found. Please update jupyter and ipywidgets. See https://ipywidgets.readthedocs.io/en/stable/user_install.html\n",
      "  from .autonotebook import tqdm as notebook_tqdm\n"
     ]
    },
    {
     "name": "stdout",
     "output_type": "stream",
     "text": [
      "993 tokens in 11th token_split_texts,\n",
      "\n",
      "assessment, hearing, complaint, charge, demand or other legal proceeding ( whether sounding in contract, tort or otherwise, whether civil or criminal and whether brought at law or in equity ) that is commenced, brought, conducted, tried or heard by or before, or otherwise involving, any governmental authority. “ affiliate ” means, with respect to any specified person, any other person directly or indirectly controlling, controlled by, or under direct or indirect common control with such specified person. for purposes of the foregoing, a person shall be deemed to control a specified person if such person ( or a family member of such person ) possesses, directly or indirectly, the power to direct or cause the direction of the management and policies of such specified person. “ ancillary agreements ” means the escrow agreement, the option cancellation acknowledgments, and [ and the employment agreements ]. “ anti - corruption laws ” means any applicable laws, regulations, or orders\n",
      "\n",
      "Total chunks: 259\n"
     ]
    }
   ],
   "source": [
    "token_splitter = SentenceTransformersTokenTextSplitter(chunk_overlap=0, tokens_per_chunk=256)\n",
    "\n",
    "token_split_texts = []\n",
    "for text in character_split_texts:\n",
    "    token_split_texts += token_splitter.split_text(text)\n",
    "\n",
    "print(f\"{len(token_split_texts[10])} tokens in 11th token_split_texts,\\n\\n{token_split_texts[10]}\")\n",
    "\n",
    "print(f\"\\nTotal chunks: {len(token_split_texts)}\")"
   ]
  },
  {
   "cell_type": "markdown",
   "metadata": {},
   "source": [
    "Embed each token_split_texts at one vector. SentenceTransformerEmbeddingFunction will embed each token and finally embed into one vector, the group of tokens, which is token_split_texts. \n",
    "\n",
    "Furthermore, we will store them into chroma, our vector database."
   ]
  },
  {
   "cell_type": "code",
   "execution_count": null,
   "metadata": {},
   "outputs": [],
   "source": [
    "import chromadb\n",
    "from chromadb.utils.embedding_functions import SentenceTransformerEmbeddingFunction\n",
    "\n",
    "embedding_function = SentenceTransformerEmbeddingFunction()"
   ]
  },
  {
   "cell_type": "code",
   "execution_count": null,
   "metadata": {},
   "outputs": [
    {
     "data": {
      "text/plain": [
       "[[-0.06615419685840607,\n",
       "  0.021851684898138046,\n",
       "  -0.049496542662382126,\n",
       "  -0.03747585788369179,\n",
       "  -0.08779998123645782,\n",
       "  0.008753119967877865,\n",
       "  0.053294893354177475,\n",
       "  -0.005156119354069233,\n",
       "  0.004735815804451704,\n",
       "  -0.0007585746352560818,\n",
       "  0.13133032619953156,\n",
       "  -0.0016952557489275932,\n",
       "  0.05872916430234909,\n",
       "  -0.013608510605990887,\n",
       "  -0.015575163997709751,\n",
       "  0.037881575524806976,\n",
       "  0.02892022207379341,\n",
       "  0.04289724677801132,\n",
       "  -0.0682736188173294,\n",
       "  0.022076698020100594,\n",
       "  -0.0034120327327400446,\n",
       "  -0.006562951486557722,\n",
       "  -0.05578169599175453,\n",
       "  0.0331386961042881,\n",
       "  -0.02372860163450241,\n",
       "  -0.0676686093211174,\n",
       "  -0.008463663049042225,\n",
       "  -0.01574673503637314,\n",
       "  0.014574338681995869,\n",
       "  -0.10380740463733673,\n",
       "  0.02849063090980053,\n",
       "  -0.0001045461103785783,\n",
       "  0.07616792619228363,\n",
       "  0.050560902804136276,\n",
       "  0.006583705078810453,\n",
       "  0.01305689662694931,\n",
       "  0.019256727769970894,\n",
       "  -0.049912042915821075,\n",
       "  -0.016967307776212692,\n",
       "  -0.013793987222015858,\n",
       "  0.05710086226463318,\n",
       "  -0.0238967128098011,\n",
       "  -0.054059118032455444,\n",
       "  -0.09256928414106369,\n",
       "  -0.04631204158067703,\n",
       "  -0.011279992759227753,\n",
       "  0.02062891609966755,\n",
       "  0.046544380486011505,\n",
       "  -0.11885771155357361,\n",
       "  0.013383729383349419,\n",
       "  -0.007674572058022022,\n",
       "  -0.059057366102933884,\n",
       "  -0.018943604081869125,\n",
       "  0.1080351322889328,\n",
       "  0.0013545496622100472,\n",
       "  -0.04908634349703789,\n",
       "  -0.012031924910843372,\n",
       "  0.00586819089949131,\n",
       "  -0.01706262305378914,\n",
       "  0.0017442917451262474,\n",
       "  0.05843968316912651,\n",
       "  0.021338054910302162,\n",
       "  -0.02685530297458172,\n",
       "  0.058779843151569366,\n",
       "  -0.06364720314741135,\n",
       "  0.004025674890726805,\n",
       "  0.01201769057661295,\n",
       "  0.012005280703306198,\n",
       "  -0.08033684641122818,\n",
       "  0.025988930836319923,\n",
       "  -0.009300095029175282,\n",
       "  -0.08604547381401062,\n",
       "  0.005634841974824667,\n",
       "  -0.0018929215148091316,\n",
       "  0.01772935502231121,\n",
       "  -0.06319370120763779,\n",
       "  0.009004071354866028,\n",
       "  0.039778463542461395,\n",
       "  0.006807256024330854,\n",
       "  -0.10401509702205658,\n",
       "  -0.03893359750509262,\n",
       "  0.06517402827739716,\n",
       "  0.0015477596316486597,\n",
       "  -0.09414355456829071,\n",
       "  -0.0073122186586260796,\n",
       "  -0.05741884931921959,\n",
       "  0.0381484217941761,\n",
       "  0.009335914626717567,\n",
       "  0.05607728287577629,\n",
       "  0.07105451822280884,\n",
       "  -0.040646668523550034,\n",
       "  -0.033225931227207184,\n",
       "  0.08558060973882675,\n",
       "  -0.08966752141714096,\n",
       "  0.0722561776638031,\n",
       "  -0.02008298970758915,\n",
       "  0.03420785069465637,\n",
       "  -0.07544863224029541,\n",
       "  0.04137461632490158,\n",
       "  0.04838719591498375,\n",
       "  0.01191236823797226,\n",
       "  0.022294877097010612,\n",
       "  -0.025365322828292847,\n",
       "  0.05018524080514908,\n",
       "  -0.01611410826444626,\n",
       "  -0.010983052663505077,\n",
       "  -0.073268361389637,\n",
       "  -0.05894610285758972,\n",
       "  0.07485713809728622,\n",
       "  0.034845177084207535,\n",
       "  -0.059753406792879105,\n",
       "  -0.03658132627606392,\n",
       "  -0.02738848514854908,\n",
       "  -0.06804808974266052,\n",
       "  0.034358687698841095,\n",
       "  0.11035174876451492,\n",
       "  -0.02575349435210228,\n",
       "  0.11638685315847397,\n",
       "  0.05241654813289642,\n",
       "  -0.08979460597038269,\n",
       "  0.05229910835623741,\n",
       "  0.0530066192150116,\n",
       "  -0.054612211883068085,\n",
       "  -0.018332917243242264,\n",
       "  0.017785055562853813,\n",
       "  -0.03460223600268364,\n",
       "  -0.027477364987134933,\n",
       "  -4.854961105386459e-34,\n",
       "  -0.041873544454574585,\n",
       "  0.06506472080945969,\n",
       "  -0.08850058168172836,\n",
       "  0.027526024729013443,\n",
       "  0.012492384761571884,\n",
       "  0.002932504052296281,\n",
       "  -0.00043403240852057934,\n",
       "  0.01811479590833187,\n",
       "  -0.041309867054224014,\n",
       "  0.07867354899644852,\n",
       "  -0.007569694891571999,\n",
       "  0.05142396688461304,\n",
       "  0.049652859568595886,\n",
       "  0.05771792307496071,\n",
       "  -0.022044671699404716,\n",
       "  -0.004313086159527302,\n",
       "  -0.020280025899410248,\n",
       "  0.06677821278572083,\n",
       "  0.005248110741376877,\n",
       "  0.07105948030948639,\n",
       "  0.061763741075992584,\n",
       "  -0.008452773094177246,\n",
       "  0.009283475577831268,\n",
       "  0.06405947357416153,\n",
       "  0.00776697276160121,\n",
       "  -0.1163100078701973,\n",
       "  -0.04000026360154152,\n",
       "  0.008817044086754322,\n",
       "  0.02966100350022316,\n",
       "  0.011674486100673676,\n",
       "  0.03970612213015556,\n",
       "  0.055296529084444046,\n",
       "  0.10730575770139694,\n",
       "  0.04122524708509445,\n",
       "  0.018375705927610397,\n",
       "  0.05527736619114876,\n",
       "  -0.011892308481037617,\n",
       "  -0.026133926585316658,\n",
       "  0.012801098637282848,\n",
       "  -0.008086065761744976,\n",
       "  -0.0951693058013916,\n",
       "  -0.013297215104103088,\n",
       "  0.012225539423525333,\n",
       "  -0.04557458683848381,\n",
       "  0.015199211426079273,\n",
       "  -0.02198304422199726,\n",
       "  0.027706488966941833,\n",
       "  -0.0358724482357502,\n",
       "  0.014918409287929535,\n",
       "  0.0523315966129303,\n",
       "  0.017503833398222923,\n",
       "  -0.03821759298443794,\n",
       "  0.04397371783852577,\n",
       "  -0.021520698443055153,\n",
       "  0.024268563836812973,\n",
       "  -0.013325870968401432,\n",
       "  -0.11220430582761765,\n",
       "  0.0443875677883625,\n",
       "  -0.07275856286287308,\n",
       "  0.012705554254353046,\n",
       "  0.0405215248465538,\n",
       "  -0.029110990464687347,\n",
       "  -0.03976751118898392,\n",
       "  0.0810520201921463,\n",
       "  -0.13661602139472961,\n",
       "  -0.03590413182973862,\n",
       "  -0.04567476734519005,\n",
       "  -0.02313688024878502,\n",
       "  0.06952251493930817,\n",
       "  -0.16260963678359985,\n",
       "  -0.04248114302754402,\n",
       "  0.053215108811855316,\n",
       "  -0.03296060860157013,\n",
       "  0.06198302283883095,\n",
       "  -0.06969520449638367,\n",
       "  -0.028287125751376152,\n",
       "  -0.07058632373809814,\n",
       "  0.018957672640681267,\n",
       "  0.03174535930156708,\n",
       "  -0.012369307689368725,\n",
       "  -0.127815842628479,\n",
       "  0.023078927770256996,\n",
       "  0.057548485696315765,\n",
       "  -0.0032948071602731943,\n",
       "  0.0003202338994015008,\n",
       "  -0.004675803706049919,\n",
       "  0.017457740381360054,\n",
       "  0.0438355877995491,\n",
       "  0.031571730971336365,\n",
       "  0.0673375278711319,\n",
       "  0.013808611780405045,\n",
       "  0.08457331359386444,\n",
       "  -0.03695624694228172,\n",
       "  0.07924766093492508,\n",
       "  0.1184728741645813,\n",
       "  -2.9764960616819923e-33,\n",
       "  0.0311029851436615,\n",
       "  -0.007567605935037136,\n",
       "  -0.09899911284446716,\n",
       "  0.011029478162527084,\n",
       "  -0.04845723137259483,\n",
       "  0.0650433599948883,\n",
       "  0.005988555960357189,\n",
       "  -0.042669154703617096,\n",
       "  0.025583278387784958,\n",
       "  -0.05952839553356171,\n",
       "  -0.14247696101665497,\n",
       "  -0.08896662294864655,\n",
       "  0.00024090523947961628,\n",
       "  -0.02693178504705429,\n",
       "  -0.06064774841070175,\n",
       "  -0.08835897594690323,\n",
       "  0.0049794623628258705,\n",
       "  -0.013148169033229351,\n",
       "  0.016285767778754234,\n",
       "  0.05914812535047531,\n",
       "  0.054727744311094284,\n",
       "  -0.012641814537346363,\n",
       "  0.026245320215821266,\n",
       "  -0.022646507248282433,\n",
       "  0.00040027278009802103,\n",
       "  0.014282078482210636,\n",
       "  -0.030172675848007202,\n",
       "  -0.04587240517139435,\n",
       "  -0.023455306887626648,\n",
       "  0.019331755116581917,\n",
       "  -0.006300222594290972,\n",
       "  0.0026077968068420887,\n",
       "  -0.04993031546473503,\n",
       "  0.0030125686898827553,\n",
       "  -0.04267916455864906,\n",
       "  -0.06750226020812988,\n",
       "  0.06747700273990631,\n",
       "  -0.04252365231513977,\n",
       "  -0.052428726106882095,\n",
       "  -0.06389804184436798,\n",
       "  0.029945161193609238,\n",
       "  0.055740904062986374,\n",
       "  0.0646865963935852,\n",
       "  0.020604992285370827,\n",
       "  -0.013609352521598339,\n",
       "  -0.03937077149748802,\n",
       "  -0.0185543242841959,\n",
       "  -0.07333923876285553,\n",
       "  -0.02803269401192665,\n",
       "  -0.0772835835814476,\n",
       "  -0.01712048053741455,\n",
       "  0.03851195052266121,\n",
       "  0.10068529844284058,\n",
       "  0.02896585315465927,\n",
       "  -0.04668358713388443,\n",
       "  0.0021816655062139034,\n",
       "  0.03890977427363396,\n",
       "  -0.003930466715246439,\n",
       "  0.008822057396173477,\n",
       "  0.007833966985344887,\n",
       "  0.10822836309671402,\n",
       "  0.04050017520785332,\n",
       "  0.022168800234794617,\n",
       "  0.08719421923160553,\n",
       "  0.017916467040777206,\n",
       "  0.0016767518827691674,\n",
       "  -0.026383832097053528,\n",
       "  0.021021150052547455,\n",
       "  0.07398345321416855,\n",
       "  -0.01581854186952114,\n",
       "  0.008690685033798218,\n",
       "  -0.13030178844928741,\n",
       "  -0.12385258078575134,\n",
       "  -0.09643829613924026,\n",
       "  0.09642930328845978,\n",
       "  -0.05122111365199089,\n",
       "  -0.05083129182457924,\n",
       "  -0.11303897947072983,\n",
       "  -0.03433201462030411,\n",
       "  -0.015893274918198586,\n",
       "  0.0005975984968245029,\n",
       "  0.01847345568239689,\n",
       "  0.0049225096590816975,\n",
       "  0.05224023386836052,\n",
       "  -0.013498068787157536,\n",
       "  -0.06979580968618393,\n",
       "  0.05284233018755913,\n",
       "  0.023533090949058533,\n",
       "  0.08076940476894379,\n",
       "  0.03882928192615509,\n",
       "  0.0004809634992852807,\n",
       "  0.009332110174000263,\n",
       "  0.010060060769319534,\n",
       "  0.012716087512671947,\n",
       "  0.015290333889424801,\n",
       "  -6.934032370509158e-08,\n",
       "  -0.029755011200904846,\n",
       "  -0.018705902621150017,\n",
       "  -0.011371142230927944,\n",
       "  -0.07161952555179596,\n",
       "  0.018826523795723915,\n",
       "  -0.07438689470291138,\n",
       "  0.0316544845700264,\n",
       "  -0.07484772056341171,\n",
       "  -0.00742797926068306,\n",
       "  -0.0031909793615341187,\n",
       "  0.002856423379853368,\n",
       "  -0.01683567464351654,\n",
       "  0.028660519048571587,\n",
       "  -0.08086107671260834,\n",
       "  0.027317140251398087,\n",
       "  -0.028556175529956818,\n",
       "  0.038575105369091034,\n",
       "  0.01602388545870781,\n",
       "  -0.041562169790267944,\n",
       "  0.07031917572021484,\n",
       "  -0.06398905813694,\n",
       "  0.053343478590250015,\n",
       "  -0.07962299138307571,\n",
       "  -0.003165373345836997,\n",
       "  0.03523503616452217,\n",
       "  -0.0568031445145607,\n",
       "  0.036017850041389465,\n",
       "  0.08965522795915604,\n",
       "  0.051497362554073334,\n",
       "  0.06027371808886528,\n",
       "  -0.08159565925598145,\n",
       "  0.07284090667963028,\n",
       "  -0.01417718455195427,\n",
       "  -0.06776701658964157,\n",
       "  -0.11015847325325012,\n",
       "  0.0443645715713501,\n",
       "  0.0203306395560503,\n",
       "  0.028932571411132812,\n",
       "  0.015035590156912804,\n",
       "  -0.02560644969344139,\n",
       "  -0.029048284515738487,\n",
       "  0.06858986616134644,\n",
       "  0.0524873360991478,\n",
       "  -0.014192749746143818,\n",
       "  0.061311718076467514,\n",
       "  -0.017715808004140854,\n",
       "  -0.04238635301589966,\n",
       "  -0.05152027681469917,\n",
       "  0.02233307622373104,\n",
       "  -0.08028265833854675,\n",
       "  0.03441084921360016,\n",
       "  0.01597784459590912,\n",
       "  0.044599100947380066,\n",
       "  0.025717733427882195,\n",
       "  0.024775872007012367,\n",
       "  -0.017071599140763283,\n",
       "  0.03899359330534935,\n",
       "  0.0920405164361,\n",
       "  -0.013962497934699059,\n",
       "  0.013240006752312183,\n",
       "  0.00967462919652462,\n",
       "  0.013147813268005848,\n",
       "  0.05281992256641388,\n",
       "  -0.0373285673558712]]"
      ]
     },
     "metadata": {},
     "output_type": "display_data"
    }
   ],
   "source": [
    "#display(Markdown(f\"{embedding_function([token_split_texts[10]])}\"))\n",
    "display(embedding_function([token_split_texts[10]]))"
   ]
  },
  {
   "cell_type": "markdown",
   "metadata": {},
   "source": [
    "The Sentences Transformer is the extension of Bert Transformer architecture."
   ]
  },
  {
   "cell_type": "code",
   "execution_count": null,
   "metadata": {},
   "outputs": [
    {
     "data": {
      "text/plain": [
       "1"
      ]
     },
     "execution_count": 14,
     "metadata": {},
     "output_type": "execute_result"
    }
   ],
   "source": [
    "len(embedding_function([token_split_texts[10]]))"
   ]
  },
  {
   "cell_type": "markdown",
   "metadata": {},
   "source": [
    "Set up Chroma client.\n",
    "Make a new collection. Create an index for each embedded token_split_texts "
   ]
  },
  {
   "cell_type": "code",
   "execution_count": null,
   "metadata": {},
   "outputs": [
    {
     "data": {
      "text/plain": [
       "259"
      ]
     },
     "execution_count": 15,
     "metadata": {},
     "output_type": "execute_result"
    }
   ],
   "source": [
    "chroma_client = chromadb.Client()\n",
    "chroma_collection = chroma_client.create_collection(\"microsoft_annual_report_2022\", embedding_function=embedding_function)\n",
    "\n",
    "ids = [str(i) for i in range(len(token_split_texts))]\n",
    "chroma_collection.add(ids=ids, documents=token_split_texts)\n",
    "chroma_collection.count()"
   ]
  },
  {
   "cell_type": "code",
   "execution_count": null,
   "metadata": {},
   "outputs": [
    {
     "data": {
      "text/markdown": [
       "name='microsoft_annual_report_2022' id=UUID('92314def-5d7f-47c8-9b04-f1813ff40d85') metadata=None tenant='default_tenant' database='default_database'"
      ],
      "text/plain": [
       "<IPython.core.display.Markdown object>"
      ]
     },
     "metadata": {},
     "output_type": "display_data"
    }
   ],
   "source": [
    "display(Markdown(f\"{chroma_collection}\"))"
   ]
  },
  {
   "cell_type": "markdown",
   "metadata": {},
   "source": [
    "### Everything is set. Let's connect an LLM and build a fully fledged RAG"
   ]
  },
  {
   "cell_type": "code",
   "execution_count": null,
   "metadata": {},
   "outputs": [
    {
     "data": {
      "text/plain": [
       "{'ids': [['79', '81', '78', '62', '80']],\n",
       " 'distances': [[0.7636401653289795,\n",
       "   0.8324612379074097,\n",
       "   0.8482997417449951,\n",
       "   0.8590202331542969,\n",
       "   0.9255144596099854]],\n",
       " 'metadatas': [[None, None, None, None, None]],\n",
       " 'embeddings': None,\n",
       " 'documents': [['with the escrow agreement. the escrow amount shall be held and, subject to section 2. 07, released to the company securityholders in accordance with the provisions of the escrow agreement with the company securityholders being entitled to share in such released amounts in accordance with their pro rata percentages. from and after the closing, buyer and the sellers ’ representative will direct the escrow agent to disburse payments from the escrow account in accordance with the purchase price adjustment provisions of this agreement and the terms of the escrow agreement including : ( a ) in the case of any disbursement that is required by the terms of this agreement and as to which there is no dispute ( or as to which the disputing party has failed to notify the escrow agent and the other parties of its dispute in accordance with any applicable requirements under this agreement and the escrow agreement ), they will provide prompt joint payment instructions directing the escrow agent',\n",
       "   'the purchase price ( as set forth in section 2. 07 ( e ) ) and any such claim shall expire upon the termination of the escrow agreement. section i. 05 withholding rights. ( a ) ( a ) notwithstanding any other provision of this agreement, each of the buyer or anyone acting on its behalf, the paying agent, the escrow agent and the section 102 trustee and any other applicable withholding agent ( each a “ payor ” ), shall be entitled to deduct and withhold from the closing cash payment and from any other payments otherwise required pursuant to this agreement, such amount in cash as the buyer and / or such anyone acting on its behalf is required to deduct and withhold with respect to any payments under the code or any provision of state, local, provincial or foreign law, unless the applicable payee ( as defined below ) provides the payor, at least five days prior to the proposed date of such payment, with a valid withholding certificate obtained from the applicable tax authorities, exempting',\n",
       "   'securityholder by wire transfer of immediately available funds its pro rata percentage of the amount, if any, by which such re - calculated final purchase price exceeds the estimated purchase price paid at closing in accordance with section 2. 05 ( a ) ( i ) and section 2. 07 ( a ) and the escrow agent shall release the escrow amount to company securityholders in accordance with the escrow agreement or ( ii ) the amount, if any, by which such estimated purchase price paid at closing in accordance with section 2. 05 ( a ) ( i ) and section 2. 07 ( a ) exceeds such re - calculated final purchase price shall be paid to the buyer, or its designee, in accordance with the terms of the escrow agreement ( and any remaining balance of the escrow amount not required to be paid to the buyer shall be released to company securityholders in accordance with the terms of the escrow agreement ). section i. 04 escrow. ( a ) at closing, buyer will deposit the escrow amount in escrow on behalf of the sellers in accordance',\n",
       "   'be governed by the terms of the escrow agreement. all funds contained in the escrow account shall be held in escrow and shall be available solely for the purpose of satisfying obligations of the company securityholders, if any, as provided in section 2. 07 ( f ). section ii. 05 closing deliveries. ( a ) buyer closing deliveries. upon the terms and subject to the conditions set forth in this agreement, the buyer shall deliver or cause to be delivered at the closing the following : ( i ) pay or cause to be paid the closing cash amounts as set forth above, each payment by wire transfer of immediately available funds denominated in u. s. dollars to an account or accounts specified on the allocation statement ; ( ii ) to the sellers ’ representative, the employment agreements and any other ancillary agreements to be entered into by buyer or parent at closing, executed by buyer or parent ( as applicable ) ; ( iii ) to the escrow agent, by wire transfer of immediately available funds, the escrow',\n",
       "   'to make such disbursement and ( b ) in the case of a disbursement as to which either the buyer or the seller ’ s representative has notified the other and the escrow agent ( in accordance with any notice and timing requirements applicable under this agreement and the escrow agreement ) that there is a good faith dispute, they will provide joint payment instructions to the escrow agent to direct the appropriate disbursement promptly upon the resolution, in accordance with the provisions of this agreement, of such dispute. ( b ) recovery from the escrow amount shall constitute the buyer ’ s exclusive remedy against the company securityholders in connection with any claim relating to any adjustments of - 21 - 112923184 _ 5']],\n",
       " 'uris': None,\n",
       " 'data': None}"
      ]
     },
     "metadata": {},
     "output_type": "display_data"
    }
   ],
   "source": [
    "query = \"How much is the escrow amount?\"\n",
    "\n",
    "# Chroma will automatically embed the query for us. So, we don't need to do it manually\n",
    "results = chroma_collection.query(query_texts=[query], n_results=5)\n",
    "retrieved_documents = results['documents'][0]      # the 0 means retrieve or give the result of 1st query in query_texts list.   \n",
    "\n",
    "display(results)\n"
   ]
  },
  {
   "cell_type": "code",
   "execution_count": null,
   "metadata": {},
   "outputs": [],
   "source": [
    "# We didn't meet the expected result. Which means that our Retrieval didn't provide the\\\n",
    "# relevant answer (context) to the question"
   ]
  },
  {
   "cell_type": "markdown",
   "metadata": {},
   "source": [
    "Now, we can use LLM to generated an answer to the embedded query."
   ]
  },
  {
   "cell_type": "markdown",
   "metadata": {},
   "source": [
    "#### Generation"
   ]
  },
  {
   "cell_type": "code",
   "execution_count": null,
   "metadata": {},
   "outputs": [],
   "source": [
    "import os\n",
    "import openai\n",
    "from openai import OpenAI\n",
    "from langchain.chat_models import ChatOpenAI\n",
    "\n",
    "# from dotenv import load_dotenv, find_dotenv\n",
    "# _ = load_dotenv(find_dotenv()) # read local .env file\n",
    "# #openai.api_key = os.environ['OPENAI_API_KEY']\n",
    "\n",
    "openai_client = OpenAI() #ChatOpenAI()"
   ]
  },
  {
   "cell_type": "markdown",
   "metadata": {},
   "source": [
    "Let's define our function that will allow us to call out the model and the retrieved document along with the query."
   ]
  },
  {
   "cell_type": "code",
   "execution_count": null,
   "metadata": {},
   "outputs": [],
   "source": [
    "def rag(query, retrieved_documents, model= \"gpt-3.5-turbo\"):\n",
    "    information = \"\\n\\n\".join(retrieved_documents)\n",
    "    messages = [\n",
    "        {\n",
    "            \"role\": \"system\",\n",
    "            \"content\": \"You are a helpful expert contract research assistant. Your users are asking questions about information contained in a contract document.\"\n",
    "            \"You will be shown the user's question, and the relevant information from the contract document. Answer the user's question using only this information.\"\n",
    "        },\n",
    "        {\n",
    "            \"role\": \"user\",\n",
    "            \"content\": f\"Question: {query}. \\n Information: {information}\"\n",
    "        }\n",
    "    ]\n",
    "\n",
    "    response = openai_client.chat.completions.create(\n",
    "        model = model,\n",
    "        messages = messages,\n",
    "    )\n",
    "\n",
    "    content = response.choices[0].message.content\n",
    "\n",
    "    return content"
   ]
  },
  {
   "cell_type": "code",
   "execution_count": null,
   "metadata": {},
   "outputs": [
    {
     "data": {
      "text/markdown": [
       " **The escrow amount is to be held in escrow and shall be available solely for the purpose of satisfying obligations of the company securityholders, if any, as provided in section 2.07(f) of the escrow agreement. The release of the escrow amount will be governed by the provisions of the escrow agreement. The specific amount of the escrow is not disclosed in the provided information.**"
      ],
      "text/plain": [
       "<IPython.core.display.Markdown object>"
      ]
     },
     "metadata": {},
     "output_type": "display_data"
    }
   ],
   "source": [
    "output = rag(query=query, retrieved_documents=retrieved_documents)\n",
    "\n",
    "display(Markdown(f\" **{output}**\"))"
   ]
  },
  {
   "cell_type": "markdown",
   "metadata": {},
   "source": [
    "### This model is not performing well.\n",
    "* **The expected answer is: The escrow amount is equal to $1,000,000.**\n",
    "- **Pitfalls of retrieval - when simple vector search fails!**\n"
   ]
  },
  {
   "cell_type": "markdown",
   "metadata": {},
   "source": [
    "First thing we think is good to do, is to visualize the embedding space. Of course we have a high dimensions. We will project those dimensions down into two dimensions by using UMAP (Uniform Manifold Approximation). It will be usefull for reasoning about the structure of the embeddings space. UMAP is like PCA, except UMAP tries to peserve the structure of the data in terms of the distances between points as much as it can, unlike for instance PCA, which tries to find the dominant directions and project them down."
   ]
  },
  {
   "cell_type": "code",
   "execution_count": null,
   "metadata": {},
   "outputs": [
    {
     "name": "stderr",
     "output_type": "stream",
     "text": [
      "/home/crs/10Academy/w11/Contract-Advisor-RAG/w11_rag/lib/python3.10/site-packages/umap/umap_.py:1943: UserWarning: n_jobs value -1 overridden to 1 by setting random_state. Use no seed for parallelism.\n",
      "  warn(f\"n_jobs value {self.n_jobs} overridden to 1 by setting random_state. Use no seed for parallelism.\")\n"
     ]
    }
   ],
   "source": [
    "import umap\n",
    "import numpy as np\n",
    "from tqdm import tqdm\n",
    "\n",
    "embeddings = chroma_collection.get(include=['embeddings'])[\"embeddings\"]\n",
    "umap_transform = umap.UMAP(random_state=0, transform_seed=0).fit(embeddings)"
   ]
  },
  {
   "cell_type": "code",
   "execution_count": null,
   "metadata": {},
   "outputs": [],
   "source": [
    "def project_embeddings(embeddings, umap_transform):\n",
    "    \"\"\"\n",
    "    Project embeddings dimensions down into two dimensions\n",
    "    :embeddings: embeddings provided \n",
    "    :umap_transform: umap_transform set based on the original embeddings or embeddings of the holistic data\n",
    "    :return: projection in 2 two dimensions of the provided embeddings\n",
    "    \"\"\"\n",
    "    umap_embeddings = np.empty((len(embeddings), 2))\n",
    "    for i, embedding in enumerate(tqdm(embeddings)):\n",
    "        umap_embeddings[i] = umap_transform.transform([embedding])\n",
    "    return umap_embeddings"
   ]
  },
  {
   "cell_type": "code",
   "execution_count": null,
   "metadata": {},
   "outputs": [
    {
     "name": "stderr",
     "output_type": "stream",
     "text": [
      "  0%|          | 0/259 [00:00<?, ?it/s]"
     ]
    },
    {
     "name": "stderr",
     "output_type": "stream",
     "text": [
      "100%|██████████| 259/259 [17:39<00:00,  4.09s/it]\n"
     ]
    }
   ],
   "source": [
    "projected_dataset_embeddings = project_embeddings(embeddings, umap_transform)"
   ]
  },
  {
   "cell_type": "code",
   "execution_count": null,
   "metadata": {},
   "outputs": [
    {
     "data": {
      "text/plain": [
       "(-1.2737887144088744, 7.09638478755951, 1.971159529685974, 7.098475384712219)"
      ]
     },
     "execution_count": 25,
     "metadata": {},
     "output_type": "execute_result"
    },
    {
     "data": {
      "image/png": "[encoded data removed]",
      "text/plain": [
       "<Figure size 640x480 with 1 Axes>"
      ]
     },
     "metadata": {},
     "output_type": "display_data"
    }
   ],
   "source": [
    "import matplotlib.pyplot as plt\n",
    "\n",
    "plt.figure()\n",
    "plt.scatter(projected_dataset_embeddings[:, 0], projected_dataset_embeddings[:, 1], s=10)\n",
    "plt.gca().set_aspect('equal', 'datalim')\n",
    "plt.title('Projected Embeddings')\n",
    "plt.axis('off')"
   ]
  },
  {
   "cell_type": "markdown",
   "metadata": {},
   "source": [
    "### Relevancy and Distraction\n",
    "\n",
    "Let's use our previous query"
   ]
  },
  {
   "cell_type": "code",
   "execution_count": null,
   "metadata": {},
   "outputs": [
    {
     "data": {
      "text/markdown": [
       "with the escrow agreement. the escrow amount shall be held and, subject to section 2. 07, released to the company securityholders in accordance with the provisions of the escrow agreement with the company securityholders being entitled to share in such released amounts in accordance with their pro rata percentages. from and after the closing, buyer and the sellers ’ representative will direct the escrow agent to disburse payments from the escrow account in accordance with the purchase price adjustment provisions of this agreement and the terms of the escrow agreement including : ( a ) in the case of any disbursement that is required by the terms of this agreement and as to which there is no dispute ( or as to which the disputing party has failed to notify the escrow agent and the other parties of its dispute in accordance with any applicable requirements under this agreement and the escrow agreement ), they will provide prompt joint payment instructions directing the escrow agent"
      ],
      "text/plain": [
       "<IPython.core.display.Markdown object>"
      ]
     },
     "metadata": {},
     "output_type": "display_data"
    },
    {
     "data": {
      "text/markdown": [
       "the purchase price ( as set forth in section 2. 07 ( e ) ) and any such claim shall expire upon the termination of the escrow agreement. section i. 05 withholding rights. ( a ) ( a ) notwithstanding any other provision of this agreement, each of the buyer or anyone acting on its behalf, the paying agent, the escrow agent and the section 102 trustee and any other applicable withholding agent ( each a “ payor ” ), shall be entitled to deduct and withhold from the closing cash payment and from any other payments otherwise required pursuant to this agreement, such amount in cash as the buyer and / or such anyone acting on its behalf is required to deduct and withhold with respect to any payments under the code or any provision of state, local, provincial or foreign law, unless the applicable payee ( as defined below ) provides the payor, at least five days prior to the proposed date of such payment, with a valid withholding certificate obtained from the applicable tax authorities, exempting"
      ],
      "text/plain": [
       "<IPython.core.display.Markdown object>"
      ]
     },
     "metadata": {},
     "output_type": "display_data"
    },
    {
     "data": {
      "text/markdown": [
       "securityholder by wire transfer of immediately available funds its pro rata percentage of the amount, if any, by which such re - calculated final purchase price exceeds the estimated purchase price paid at closing in accordance with section 2. 05 ( a ) ( i ) and section 2. 07 ( a ) and the escrow agent shall release the escrow amount to company securityholders in accordance with the escrow agreement or ( ii ) the amount, if any, by which such estimated purchase price paid at closing in accordance with section 2. 05 ( a ) ( i ) and section 2. 07 ( a ) exceeds such re - calculated final purchase price shall be paid to the buyer, or its designee, in accordance with the terms of the escrow agreement ( and any remaining balance of the escrow amount not required to be paid to the buyer shall be released to company securityholders in accordance with the terms of the escrow agreement ). section i. 04 escrow. ( a ) at closing, buyer will deposit the escrow amount in escrow on behalf of the sellers in accordance"
      ],
      "text/plain": [
       "<IPython.core.display.Markdown object>"
      ]
     },
     "metadata": {},
     "output_type": "display_data"
    },
    {
     "data": {
      "text/markdown": [
       "be governed by the terms of the escrow agreement. all funds contained in the escrow account shall be held in escrow and shall be available solely for the purpose of satisfying obligations of the company securityholders, if any, as provided in section 2. 07 ( f ). section ii. 05 closing deliveries. ( a ) buyer closing deliveries. upon the terms and subject to the conditions set forth in this agreement, the buyer shall deliver or cause to be delivered at the closing the following : ( i ) pay or cause to be paid the closing cash amounts as set forth above, each payment by wire transfer of immediately available funds denominated in u. s. dollars to an account or accounts specified on the allocation statement ; ( ii ) to the sellers ’ representative, the employment agreements and any other ancillary agreements to be entered into by buyer or parent at closing, executed by buyer or parent ( as applicable ) ; ( iii ) to the escrow agent, by wire transfer of immediately available funds, the escrow"
      ],
      "text/plain": [
       "<IPython.core.display.Markdown object>"
      ]
     },
     "metadata": {},
     "output_type": "display_data"
    },
    {
     "data": {
      "text/markdown": [
       "to make such disbursement and ( b ) in the case of a disbursement as to which either the buyer or the seller ’ s representative has notified the other and the escrow agent ( in accordance with any notice and timing requirements applicable under this agreement and the escrow agreement ) that there is a good faith dispute, they will provide joint payment instructions to the escrow agent to direct the appropriate disbursement promptly upon the resolution, in accordance with the provisions of this agreement, of such dispute. ( b ) recovery from the escrow amount shall constitute the buyer ’ s exclusive remedy against the company securityholders in connection with any claim relating to any adjustments of - 21 - 112923184 _ 5"
      ],
      "text/plain": [
       "<IPython.core.display.Markdown object>"
      ]
     },
     "metadata": {},
     "output_type": "display_data"
    }
   ],
   "source": [
    "query = \"How much is the escrow amount?\"\n",
    "\n",
    "results = chroma_collection.query(query_texts= [query], n_results =5, include=['documents','embeddings'])\n",
    "retrieved_documents = results[\"documents\"][0]\n",
    "\n",
    "for doc in retrieved_documents:\n",
    "    display(Markdown(f\"{doc}\"))"
   ]
  },
  {
   "cell_type": "code",
   "execution_count": null,
   "metadata": {},
   "outputs": [
    {
     "name": "stderr",
     "output_type": "stream",
     "text": [
      "  0%|          | 0/1 [00:00<?, ?it/s]"
     ]
    },
    {
     "name": "stderr",
     "output_type": "stream",
     "text": [
      "100%|██████████| 1/1 [00:04<00:00,  4.40s/it]\n",
      "100%|██████████| 5/5 [00:20<00:00,  4.19s/it]\n"
     ]
    }
   ],
   "source": [
    "query_embedding = embedding_function([query])[0]        # embedding of query\n",
    "retrieved_embeddings = results['embeddings'][0]         # retrieved embeddng of query\n",
    "\n",
    "projected_query_embedding = project_embeddings([query_embedding], umap_transform)\n",
    "projected_retrieved_embeddings = project_embeddings(retrieved_embeddings, umap_transform)\n"
   ]
  },
  {
   "cell_type": "code",
   "execution_count": null,
   "metadata": {},
   "outputs": [
    {
     "data": {
      "text/plain": [
       "(-1.2737887144088744, 7.09638478755951, 1.971159529685974, 7.098475384712219)"
      ]
     },
     "execution_count": 28,
     "metadata": {},
     "output_type": "execute_result"
    },
    {
     "data": {
      "image/png": "[encoded data removed]",
      "text/plain": [
       "<Figure size 640x480 with 1 Axes>"
      ]
     },
     "metadata": {},
     "output_type": "display_data"
    }
   ],
   "source": [
    "# Plot the projected query and retrieved documents in the embedding space\n",
    "plt.figure()\n",
    "plt.scatter(projected_dataset_embeddings[:, 0], projected_dataset_embeddings[:, 1], s=10, color='blue')\n",
    "plt.scatter(projected_query_embedding[:, 0], projected_query_embedding[:, 1], s=150, marker='X', color='r')\n",
    "plt.scatter(projected_retrieved_embeddings[:, 0], projected_retrieved_embeddings[:, 1], s=100, facecolors='none', edgecolors='g')\n",
    "\n",
    "plt.gca().set_aspect('equal', 'datalim')\n",
    "plt.title(f'{query}')\n",
    "plt.axis('off')"
   ]
  },
  {
   "cell_type": "markdown",
   "metadata": {},
   "source": [
    "- This is the visualization of the query and the retrieved embeddings. \n",
    "- The green circle circles the data points that are retrieving.\n",
    "- The red X is the query.\n",
    "\n",
    "- As, you can see, we are retrieving a general knowledge not the relevant ones. \n",
    "- Our model has been distracted."
   ]
  },
  {
   "cell_type": "code",
   "execution_count": null,
   "metadata": {},
   "outputs": [],
   "source": []
  },
  {
   "cell_type": "markdown",
   "metadata": {},
   "source": [
    "##### Another example\n",
    "- `query = \"Are there any conditions to the closing?\"` \n",
    "- `answer = \"No, as the signing and closing are simultaneous.\"`"
   ]
  },
  {
   "cell_type": "code",
   "execution_count": null,
   "metadata": {},
   "outputs": [
    {
     "data": {
      "text/markdown": [
       "with the escrow agreement. the escrow amount shall be held and, subject to section 2. 07, released to the company securityholders in accordance with the provisions of the escrow agreement with the company securityholders being entitled to share in such released amounts in accordance with their pro rata percentages. from and after the closing, buyer and the sellers ’ representative will direct the escrow agent to disburse payments from the escrow account in accordance with the purchase price adjustment provisions of this agreement and the terms of the escrow agreement including : ( a ) in the case of any disbursement that is required by the terms of this agreement and as to which there is no dispute ( or as to which the disputing party has failed to notify the escrow agent and the other parties of its dispute in accordance with any applicable requirements under this agreement and the escrow agreement ), they will provide prompt joint payment instructions directing the escrow agent"
      ],
      "text/plain": [
       "<IPython.core.display.Markdown object>"
      ]
     },
     "metadata": {},
     "output_type": "display_data"
    },
    {
     "data": {
      "text/markdown": [
       "the purchase price ( as set forth in section 2. 07 ( e ) ) and any such claim shall expire upon the termination of the escrow agreement. section i. 05 withholding rights. ( a ) ( a ) notwithstanding any other provision of this agreement, each of the buyer or anyone acting on its behalf, the paying agent, the escrow agent and the section 102 trustee and any other applicable withholding agent ( each a “ payor ” ), shall be entitled to deduct and withhold from the closing cash payment and from any other payments otherwise required pursuant to this agreement, such amount in cash as the buyer and / or such anyone acting on its behalf is required to deduct and withhold with respect to any payments under the code or any provision of state, local, provincial or foreign law, unless the applicable payee ( as defined below ) provides the payor, at least five days prior to the proposed date of such payment, with a valid withholding certificate obtained from the applicable tax authorities, exempting"
      ],
      "text/plain": [
       "<IPython.core.display.Markdown object>"
      ]
     },
     "metadata": {},
     "output_type": "display_data"
    },
    {
     "data": {
      "text/markdown": [
       "securityholder by wire transfer of immediately available funds its pro rata percentage of the amount, if any, by which such re - calculated final purchase price exceeds the estimated purchase price paid at closing in accordance with section 2. 05 ( a ) ( i ) and section 2. 07 ( a ) and the escrow agent shall release the escrow amount to company securityholders in accordance with the escrow agreement or ( ii ) the amount, if any, by which such estimated purchase price paid at closing in accordance with section 2. 05 ( a ) ( i ) and section 2. 07 ( a ) exceeds such re - calculated final purchase price shall be paid to the buyer, or its designee, in accordance with the terms of the escrow agreement ( and any remaining balance of the escrow amount not required to be paid to the buyer shall be released to company securityholders in accordance with the terms of the escrow agreement ). section i. 04 escrow. ( a ) at closing, buyer will deposit the escrow amount in escrow on behalf of the sellers in accordance"
      ],
      "text/plain": [
       "<IPython.core.display.Markdown object>"
      ]
     },
     "metadata": {},
     "output_type": "display_data"
    },
    {
     "data": {
      "text/markdown": [
       "be governed by the terms of the escrow agreement. all funds contained in the escrow account shall be held in escrow and shall be available solely for the purpose of satisfying obligations of the company securityholders, if any, as provided in section 2. 07 ( f ). section ii. 05 closing deliveries. ( a ) buyer closing deliveries. upon the terms and subject to the conditions set forth in this agreement, the buyer shall deliver or cause to be delivered at the closing the following : ( i ) pay or cause to be paid the closing cash amounts as set forth above, each payment by wire transfer of immediately available funds denominated in u. s. dollars to an account or accounts specified on the allocation statement ; ( ii ) to the sellers ’ representative, the employment agreements and any other ancillary agreements to be entered into by buyer or parent at closing, executed by buyer or parent ( as applicable ) ; ( iii ) to the escrow agent, by wire transfer of immediately available funds, the escrow"
      ],
      "text/plain": [
       "<IPython.core.display.Markdown object>"
      ]
     },
     "metadata": {},
     "output_type": "display_data"
    },
    {
     "data": {
      "text/markdown": [
       "to make such disbursement and ( b ) in the case of a disbursement as to which either the buyer or the seller ’ s representative has notified the other and the escrow agent ( in accordance with any notice and timing requirements applicable under this agreement and the escrow agreement ) that there is a good faith dispute, they will provide joint payment instructions to the escrow agent to direct the appropriate disbursement promptly upon the resolution, in accordance with the provisions of this agreement, of such dispute. ( b ) recovery from the escrow amount shall constitute the buyer ’ s exclusive remedy against the company securityholders in connection with any claim relating to any adjustments of - 21 - 112923184 _ 5"
      ],
      "text/plain": [
       "<IPython.core.display.Markdown object>"
      ]
     },
     "metadata": {},
     "output_type": "display_data"
    }
   ],
   "source": [
    "# Another example\n",
    "query = \"Are there any conditions to the closing?\"\n",
    "\n",
    "results = chroma_collection.query(query_texts=[query], n_results=5, include=[\"documents\", \"embeddings\"])\n",
    "retrived_documents = results[\"documents\"][0]\n",
    "\n",
    "for doc in retrieved_documents:\n",
    "    display(Markdown(f\"{doc}\"))"
   ]
  },
  {
   "cell_type": "code",
   "execution_count": null,
   "metadata": {},
   "outputs": [
    {
     "name": "stderr",
     "output_type": "stream",
     "text": [
      "100%|██████████| 1/1 [00:03<00:00,  3.87s/it]\n",
      "100%|██████████| 5/5 [00:19<00:00,  3.85s/it]\n"
     ]
    }
   ],
   "source": [
    "query_embedding = embedding_function([query])[0]\n",
    "retrieved_embeddings = results[\"embeddings\"][0]\n",
    "\n",
    "projected_query_embedding = project_embeddings([query_embedding], umap_transform)\n",
    "projected_retrieved_embeddings = project_embeddings(retrieved_embeddings, umap_transform)\n"
   ]
  },
  {
   "cell_type": "code",
   "execution_count": null,
   "metadata": {},
   "outputs": [
    {
     "data": {
      "text/plain": [
       "(-1.2737887144088744, 7.09638478755951, 1.971159529685974, 7.098475384712219)"
      ]
     },
     "execution_count": 31,
     "metadata": {},
     "output_type": "execute_result"
    },
    {
     "data": {
      "image/png": "[encoded data removed]",
      "text/plain": [
       "<Figure size 640x480 with 1 Axes>"
      ]
     },
     "metadata": {},
     "output_type": "display_data"
    }
   ],
   "source": [
    "# Plot the projected query and retrieved documents in the embedding space\n",
    "plt.figure()\n",
    "plt.scatter(projected_dataset_embeddings[:, 0], projected_dataset_embeddings[:, 1], s=10, color='gray')\n",
    "plt.scatter(projected_query_embedding[:, 0], projected_query_embedding[:, 1], s=150, marker='X', color='r')\n",
    "plt.scatter(projected_retrieved_embeddings[:, 0], projected_retrieved_embeddings[:, 1], s=100, facecolors='none', edgecolors='g')\n",
    "\n",
    "plt.gca().set_aspect('equal', 'datalim')\n",
    "plt.title(f'{query}')\n",
    "plt.axis('off')"
   ]
  },
  {
   "cell_type": "markdown",
   "metadata": {},
   "source": [
    "- Distractors are irrelevant information in our results. They distract the model and they are difficult to debug.\n",
    "- Better to make our retriever robust in order to return only relevant information and not distractots."
   ]
  },
  {
   "cell_type": "code",
   "execution_count": null,
   "metadata": {},
   "outputs": [],
   "source": []
  },
  {
   "cell_type": "markdown",
   "metadata": {},
   "source": [
    "## Query Expansion\n",
    "\n",
    "There is many NLP methods to improve relancy of query results. But what is new I have powerful LLMs, and we can use those to augment and enhance the queries we send to our vector-based retrieval to get better results."
   ]
  },
  {
   "attachments": {
    "image.png": {
     "image/png": "[encoded data removed]"
    }
   },
   "cell_type": "markdown",
   "metadata": {},
   "source": [
    "![image.png](attachment:image.png)"
   ]
  },
  {
   "cell_type": "markdown",
   "metadata": {},
   "source": [
    "You take your query and you pass it over to an LLM, which prompt to generate a hypothetical or imagined answer to your query and you can concatenate your query with the imagined answer and use that as the new query, which you pass to your retrieval system or vector store. Then you return your query results as normal."
   ]
  },
  {
   "cell_type": "markdown",
   "metadata": {},
   "source": []
  },
  {
   "cell_type": "code",
   "execution_count": null,
   "metadata": {},
   "outputs": [
    {
     "data": {
      "text/plain": [
       "259"
      ]
     },
     "execution_count": 32,
     "metadata": {},
     "output_type": "execute_result"
    }
   ],
   "source": [
    "chroma_client = chromadb.Client()\n",
    "chroma_collection = chroma_client.create_collection(\"microsoft_annual_report_2022\", embedding_function=embedding_function)\n",
    "\n",
    "ids = [str(i) for i in range(len(token_split_texts))]\n",
    "chroma_collection.add(ids=ids, documents=token_split_texts)\n",
    "chroma_collection.count()"
   ]
  },
  {
   "cell_type": "code",
   "execution_count": null,
   "metadata": {},
   "outputs": [],
   "source": [
    "import umap\n",
    "\n",
    "embeddings = chroma_collection.get(include=['embeddings'])['embeddings']\n",
    "umap_transform = umap.UMAP(random_state=0, transform_seed=0).fit(embeddings)\n",
    "projected_dataset_embeddings = project_embeddings(embeddings, umap_transform)"
   ]
  },
  {
   "cell_type": "markdown",
   "metadata": {},
   "source": [
    "## Expansion with generated answers\n",
    "\n",
    "https://arxiv.org/abs/2305.03653"
   ]
  },
  {
   "cell_type": "code",
   "execution_count": null,
   "metadata": {},
   "outputs": [],
   "source": [
    "def augment_query_generated(query, model=\"gpt-3.5-turbo\"):\n",
    "    messages =[\n",
    "        {\n",
    "            \"role\": \"system\",\n",
    "            \"content\": \"You are a helpful expert contract research assistant. Provide an example \\\n",
    "                answer to the given question, that might be found in a document like a contract document.\"\n",
    "        },\n",
    "        {\n",
    "            \"role\": \"user\", \"content\": query\n",
    "        }\n",
    "    ]\n",
    "    response = openai_client.chat.completions.create(\n",
    "        model= model,\n",
    "        messages = messages,\n",
    "    )\n",
    "    content = response.choices[0].message.content\n",
    "    return content"
   ]
  },
  {
   "cell_type": "code",
   "execution_count": null,
   "metadata": {},
   "outputs": [
    {
     "data": {
      "text/markdown": [
       "How much is the escrow amount? The escrow amount for this agreement shall be $10,000 and shall be held by the escrow agent until the completion of the project."
      ],
      "text/plain": [
       "<IPython.core.display.Markdown object>"
      ]
     },
     "metadata": {},
     "output_type": "display_data"
    }
   ],
   "source": [
    "original_query = \"How much is the escrow amount?\"\n",
    "hypothetical_answer = augment_query_generated(original_query)\n",
    "\n",
    "joint_query = f\"{original_query} {hypothetical_answer}\"\n",
    "display(Markdown(f\"{joint_query}\"))"
   ]
  },
  {
   "cell_type": "code",
   "execution_count": null,
   "metadata": {},
   "outputs": [
    {
     "ename": "NameError",
     "evalue": "name 'chroma_collection' is not defined",
     "output_type": "error",
     "traceback": [
      "\u001b[0;31m---------------------------------------------------------------------------\u001b[0m",
      "\u001b[0;31mNameError\u001b[0m                                 Traceback (most recent call last)",
      "Cell \u001b[0;32mIn[2], line 1\u001b[0m\n\u001b[0;32m----> 1\u001b[0m result \u001b[38;5;241m=\u001b[39m \u001b[43mchroma_collection\u001b[49m\u001b[38;5;241m.\u001b[39mquery(query_texts\u001b[38;5;241m=\u001b[39m[joint_query], n_results\u001b[38;5;241m=\u001b[39m\u001b[38;5;241m5\u001b[39m, include\u001b[38;5;241m=\u001b[39m[\u001b[38;5;124m'\u001b[39m\u001b[38;5;124mdocuments\u001b[39m\u001b[38;5;124m'\u001b[39m, \u001b[38;5;124m'\u001b[39m\u001b[38;5;124membeddings\u001b[39m\u001b[38;5;124m'\u001b[39m])\n\u001b[1;32m      2\u001b[0m retrieved_documents \u001b[38;5;241m=\u001b[39m results[\u001b[38;5;124m\"\u001b[39m\u001b[38;5;124mdocuments\u001b[39m\u001b[38;5;124m\"\u001b[39m][\u001b[38;5;241m0\u001b[39m]\n\u001b[1;32m      4\u001b[0m \u001b[38;5;28;01mfor\u001b[39;00m doc \u001b[38;5;129;01min\u001b[39;00m retrieved_documents:\n",
      "\u001b[0;31mNameError\u001b[0m: name 'chroma_collection' is not defined"
     ]
    }
   ],
   "source": [
    "result = chroma_collection.query(query_texts=[joint_query], n_results=5, include=['documents', 'embeddings'])\n",
    "retrieved_documents = results[\"documents\"][0]\n",
    "\n",
    "for doc in retrieved_documents:\n",
    "    display(Markdown(f\"{doc}\"))\n"
   ]
  },
  {
   "cell_type": "code",
   "execution_count": null,
   "metadata": {},
   "outputs": [],
   "source": [
    "retrieved_embeddings = results['embeddings'][0]\n",
    "original_query_embedding = embedding_function([original_query])\n",
    "augmented_query_embedding = embedding_function([joint_query])\n",
    "\n",
    "projected_original_query_embedding = project_embeddings(original_query_embedding, umap_transform)\n",
    "projected_augmented_query_embedding = project_embeddings(augmented_query_embedding, umap_transform)\n",
    "projected_retrieved_embeddings = project_embeddings(retrieved_embeddings, umap_transform)"
   ]
  },
  {
   "cell_type": "code",
   "execution_count": null,
   "metadata": {},
   "outputs": [],
   "source": [
    "import matplotlib.pyplot as plt\n",
    "\n",
    "# Plot the projected query and retrieved documents in the embedding space\n",
    "plt.figure()\n",
    "plt.scatter(projected_dataset_embeddings[:, 0], projected_dataset_embeddings[:, 1], s=10, color='gray')\n",
    "plt.scatter(projected_retrieved_embeddings[:, 0], projected_retrieved_embeddings[:, 1], s=100, facecolors='none', edgecolors='g')\n",
    "plt.scatter(projected_original_query_embedding[:, 0], projected_original_query_embedding[:, 1], s=150, marker='X', color='r')\n",
    "plt.scatter(projected_augmented_query_embedding[:, 0], projected_augmented_query_embedding[:, 1], s=150, marker='X', color='orange')\n",
    "\n",
    "plt.gca().set_aspect('equal', 'datalim')\n",
    "plt.title(f'{original_query}')\n",
    "plt.axis('off')"
   ]
  },
  {
   "cell_type": "code",
   "execution_count": null,
   "metadata": {},
   "outputs": [],
   "source": []
  }
 ],
 "metadata": {
  "kernelspec": {
   "display_name": "w11_rag",
   "language": "python",
   "name": "python3"
  },
  "language_info": {
   "codemirror_mode": {
    "name": "ipython",
    "version": 3
   },
   "file_extension": ".py",
   "mimetype": "text/x-python",
   "name": "python",
   "nbconvert_exporter": "python",
   "pygments_lexer": "ipython3",
   "version": "3.10.13"
  }
 },
 "nbformat": 4,
 "nbformat_minor": 2
}
